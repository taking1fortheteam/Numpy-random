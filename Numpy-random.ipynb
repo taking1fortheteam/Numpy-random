{
 "cells": [
  {
   "cell_type": "markdown",
   "metadata": {},
   "source": [
    "# The Numpy.random package"
   ]
  },
  {
   "cell_type": "markdown",
   "metadata": {},
   "source": [
    "NumPy, short for Numerical Python, is a library for numerical data analysis or scientific computing within Python. Within the NumPy package there are libraries, each one designed for analysing and manipulating data specific to the users needs. \n",
    "\n",
    "This NoteBook specifically deals with the Random package and should allow the reader to grasp the concept, usage and purpose of the package, while also working through examples of a number of the distributions within the Random package.\n",
    "\n",
    "Random data is an extremely important topic in mathematics or statistical analysis. Simply put, recording the weight of caught fish from Loughrea Lake at a time when the fish population are about to give birth will falsely err on the heavy side where in fact the average woud be generally a lot less. Using random data will allow cancelling out the effect of unobserved factors.  \n",
    "\n",
    "In electronic engineering behaviours of components at the zero crossing can be frought with issues for would be designers. Having computer models and simulations of components around this \"zero crossing\" ought to assist designers to avoid the pitfalls of this unwanted behaviour. If the models were based on data or samples only in the components normal operational conditions, not drawing attention to the zero crossing, may lead to oversights on the designers behalf and result in extreme unwanted behaviours when products reach prototyping stage, or worse again, reach customers. \n",
    "\n",
    "To invoke and include NumPy in our Python programming and analysis, we first need to import the package or library into the Python environment. The following line of code performs this operation:\n"
   ]
  },
  {
   "cell_type": "code",
   "execution_count": 15,
   "metadata": {},
   "outputs": [],
   "source": [
    "import numpy as np"
   ]
  },
  {
   "cell_type": "markdown",
   "metadata": {},
   "source": [
    "Importing NumPy as np - basically as we want to refer to NumPy through out our code from hereafter, we only need to use np rather than re-type NumPy each time. This should save us a little time.\n",
    "\n",
    "To get into the different distributions of the Random package we need to start looking at a few. To begin with we will cast our eyes over the Random Rand Distribution.\n",
    "This distribution will return a value (or values) from the standard normal distribution: please refer to the following link for further details:\n",
    "\n",
    "https://docs.scipy.org/doc/numpy-1.14.0/reference/generated/numpy.random.randn.html\n",
    "\n",
    "In this example, the value of x will be equal to a random number. But the random number has to be created, and to do this, NumPy needs to be called upon, followed by the Random distribution, then the Rand \"normal distribution\". THe parameter in the brackets can consist of many items, but for this 1st example it is set to only 1 - meaning there wil be only 1 Random Number returned from the Normal Distribution. "
   ]
  },
  {
   "cell_type": "code",
   "execution_count": 16,
   "metadata": {},
   "outputs": [
    {
     "data": {
      "text/plain": [
       "array([0.96092376])"
      ]
     },
     "execution_count": 16,
     "metadata": {},
     "output_type": "execute_result"
    }
   ],
   "source": [
    "x = np.random.rand(1)\n",
    "x"
   ]
  },
  {
   "cell_type": "markdown",
   "metadata": {},
   "source": [
    "Changing the parameter within the brackets will allow any number of random numbers to be generated within an array structure, in the example below, there will be 6 random number arrays returned with 3 arrays of 10 elements in each."
   ]
  },
  {
   "cell_type": "code",
   "execution_count": 17,
   "metadata": {},
   "outputs": [
    {
     "data": {
      "text/plain": [
       "array([[[0.82862334, 0.73370196, 0.89193365, 0.28545009, 0.02403744,\n",
       "         0.48856804, 0.79187382, 0.156413  , 0.87627689, 0.31195848],\n",
       "        [0.71780146, 0.34397479, 0.74479429, 0.23591882, 0.1811162 ,\n",
       "         0.73656702, 0.48825336, 0.71509241, 0.90676483, 0.82355617],\n",
       "        [0.32685389, 0.48735298, 0.50917921, 0.50866849, 0.90203637,\n",
       "         0.55983898, 0.97740307, 0.92498491, 0.0610042 , 0.69144346]],\n",
       "\n",
       "       [[0.3243788 , 0.77394697, 0.62361481, 0.43155471, 0.46504113,\n",
       "         0.41376707, 0.89540178, 0.4115799 , 0.9429759 , 0.72849329],\n",
       "        [0.67616253, 0.53286542, 0.05929948, 0.8941968 , 0.41935334,\n",
       "         0.82303947, 0.06380094, 0.41307572, 0.70668803, 0.99943584],\n",
       "        [0.95705873, 0.1122013 , 0.48702222, 0.77022738, 0.09695786,\n",
       "         0.41670231, 0.4519613 , 0.31078861, 0.72344522, 0.9664667 ]],\n",
       "\n",
       "       [[0.80492392, 0.46879263, 0.43591063, 0.47795222, 0.76474752,\n",
       "         0.30809842, 0.90133599, 0.88436151, 0.31942212, 0.30495339],\n",
       "        [0.51119854, 0.59758779, 0.20017634, 0.57346433, 0.30559803,\n",
       "         0.58368859, 0.54254388, 0.04056647, 0.6097926 , 0.38918306],\n",
       "        [0.27109416, 0.38967752, 0.94879495, 0.00108376, 0.48954245,\n",
       "         0.84059557, 0.45904143, 0.00434312, 0.08182007, 0.70998999]],\n",
       "\n",
       "       [[0.48085567, 0.01009133, 0.98938839, 0.52905142, 0.46244392,\n",
       "         0.9389572 , 0.26582292, 0.47864191, 0.95346727, 0.12069903],\n",
       "        [0.25588309, 0.02209732, 0.25693785, 0.45654806, 0.37754805,\n",
       "         0.01870177, 0.18245896, 0.16670462, 0.35301742, 0.89722914],\n",
       "        [0.52948897, 0.34384577, 0.71945647, 0.83337458, 0.2015145 ,\n",
       "         0.55675465, 0.31093705, 0.4931476 , 0.59896022, 0.77743251]],\n",
       "\n",
       "       [[0.59452414, 0.20541796, 0.34698349, 0.79056867, 0.60534775,\n",
       "         0.69717021, 0.73779215, 0.87713944, 0.61085149, 0.22504519],\n",
       "        [0.21603333, 0.04382825, 0.34967995, 0.25096376, 0.27941066,\n",
       "         0.68735068, 0.99764709, 0.19391491, 0.43008959, 0.40836632],\n",
       "        [0.81062102, 0.23062614, 0.43229291, 0.96468086, 0.09797974,\n",
       "         0.20290635, 0.86648585, 0.74040172, 0.40550117, 0.89412896]],\n",
       "\n",
       "       [[0.26509501, 0.85552337, 0.6343218 , 0.24809142, 0.88822351,\n",
       "         0.51294621, 0.73121935, 0.65729693, 0.01782857, 0.75787199],\n",
       "        [0.47284881, 0.66369974, 0.67288602, 0.3730295 , 0.52898858,\n",
       "         0.34444344, 0.52790078, 0.01124841, 0.52955183, 0.01361606],\n",
       "        [0.07801369, 0.06945653, 0.99261573, 0.20268491, 0.66992926,\n",
       "         0.40916133, 0.13361314, 0.90970044, 0.04697005, 0.7546172 ]]])"
      ]
     },
     "execution_count": 17,
     "metadata": {},
     "output_type": "execute_result"
    }
   ],
   "source": [
    "x = np.random.rand(6, 3, 10)\n",
    "x"
   ]
  },
  {
   "cell_type": "markdown",
   "metadata": {},
   "source": [
    "To get more of an understanding of the RAND i.e. RAndom numbers over a uniform distribution package, plotting it reveals what a Uniform Distribution actually entails. There are no special interests i.e. there is approx 1000 random numbers between 0.0 and 0.1 and there is also approx 1000 random numbers creted between 0.9 and 1.0. \n",
    "However, one owrd of caution with all the Random number packages: the values generated may contain the value 0 but will always be less than 1, never equal to or greater than 1. \n",
    "# 0 <= x < 1.\n",
    "Plotting 1000 random numbers shows this random but uniform distribution. "
   ]
  },
  {
   "cell_type": "code",
   "execution_count": 18,
   "metadata": {},
   "outputs": [
    {
     "data": {
      "text/plain": [
       "array([0.59504087, 0.44538806, 0.48716711, ..., 0.0528401 , 0.60235331,\n",
       "       0.65467681])"
      ]
     },
     "execution_count": 18,
     "metadata": {},
     "output_type": "execute_result"
    }
   ],
   "source": [
    "x = np.random.rand(10000)\n",
    "x"
   ]
  },
  {
   "cell_type": "code",
   "execution_count": 19,
   "metadata": {},
   "outputs": [
    {
     "data": {
      "text/plain": [
       "(array([ 961.,  987.,  996.,  953., 1040., 1065.,  950., 1055., 1013.,\n",
       "         980.]),\n",
       " array([5.52323019e-04, 1.00496728e-01, 2.00441132e-01, 3.00385537e-01,\n",
       "        4.00329941e-01, 5.00274346e-01, 6.00218751e-01, 7.00163155e-01,\n",
       "        8.00107560e-01, 9.00051964e-01, 9.99996369e-01]),\n",
       " <a list of 10 Patch objects>)"
      ]
     },
     "execution_count": 19,
     "metadata": {},
     "output_type": "execute_result"
    },
    {
     "data": {
      "image/png": "[encoded data removed]",
      "text/plain": [
       "<Figure size 432x288 with 1 Axes>"
      ]
     },
     "metadata": {
      "needs_background": "light"
     },
     "output_type": "display_data"
    }
   ],
   "source": [
    "import matplotlib.pyplot as plt\n",
    "plt.hist(x)"
   ]
  },
  {
   "cell_type": "markdown",
   "metadata": {},
   "source": [
    "# Random.Randint - Random Integers\n",
    "THeis package is another part of the Random Library that is very similar to the previous random.rand library, but on this occasion it allows the programmer to choose the range from where the random data should be taken. "
   ]
  },
  {
   "cell_type": "code",
   "execution_count": 56,
   "metadata": {},
   "outputs": [
    {
     "data": {
      "text/plain": [
       "array([0, 0, 6, 0, 2, 6, 7, 2, 4, 1, 5, 3, 0, 7, 4, 3, 5, 9, 1, 6, 4, 0,\n",
       "       8, 8, 2, 6, 3, 4, 7, 5, 7, 2, 6, 1, 8, 3, 8, 3, 9, 1, 4, 9, 9, 0,\n",
       "       3, 6, 0, 4, 7, 0, 3, 3, 3, 7, 9, 9, 7, 5, 8, 1, 0, 6, 3, 8, 9, 9,\n",
       "       9, 5, 2, 4, 3, 4, 8, 6, 0, 7, 9, 9, 3, 7, 9, 8, 2, 0, 4, 6, 7, 1,\n",
       "       1, 0, 2, 1, 6, 8, 7, 6, 6, 4, 4, 8, 2, 7, 7, 2, 5, 7, 4, 5, 2, 2,\n",
       "       8, 3, 9, 8, 2, 7, 0, 0, 4, 4, 2, 8, 4, 2, 1, 7, 5, 2, 3, 1, 2, 0,\n",
       "       8, 7, 7, 7, 0, 6, 2, 2, 6, 8, 6, 2, 2, 9, 7, 5, 5, 4, 7, 2, 4, 9,\n",
       "       2, 2, 3, 4, 9, 6, 0, 8, 1, 2, 8, 0, 8, 7, 6, 9, 3, 0, 1, 2, 1, 3,\n",
       "       7, 7, 6, 7, 5, 9, 5, 2, 6, 9, 3, 4, 4, 3, 2, 1, 9, 3, 3, 6, 6, 0,\n",
       "       6, 0, 7, 9, 1, 8, 6, 1, 5, 2, 0, 7, 9, 9, 1, 5, 9, 4, 3, 1, 4, 8,\n",
       "       8, 9, 4, 6, 7, 8, 5, 6, 5, 4, 2, 0, 4, 9, 1, 0, 1, 1, 0, 4, 0, 0,\n",
       "       1, 4, 6, 1, 6, 9, 1, 6, 4, 3, 0, 7, 1, 1, 0, 5, 8, 9, 2, 9, 5, 3,\n",
       "       9, 1, 9, 1, 7, 2, 6, 2, 8, 8, 7, 3, 6, 8, 3, 0, 2, 1, 1, 7, 7, 5,\n",
       "       9, 9, 2, 5, 6, 4, 2, 9, 5, 5, 9, 4, 3, 6, 0, 3, 2, 9, 7, 4, 7, 2,\n",
       "       0, 9, 4, 0, 9, 9, 5, 8, 1, 6, 5, 1, 9, 4, 7, 3, 9, 4, 5, 5, 1, 5,\n",
       "       2, 7, 0, 9, 8, 2, 1, 2, 5, 4, 3, 4, 4, 8, 8, 6, 9, 7, 5, 7, 7, 8,\n",
       "       5, 3, 2, 4, 7, 2, 6, 6, 1, 3, 6, 2, 3, 0, 7, 8, 9, 1, 4, 3, 6, 5,\n",
       "       3, 3, 3, 9, 1, 7, 7, 7, 5, 3, 1, 2, 6, 1, 8, 5, 9, 1, 2, 8, 3, 2,\n",
       "       5, 5, 8, 9, 9, 5, 7, 3, 4, 3, 6, 0, 8, 2, 7, 2, 8, 3, 0, 5, 8, 1,\n",
       "       2, 1, 2, 6, 9, 0, 5, 6, 9, 1, 2, 0, 2, 9, 6, 1, 1, 0, 1, 6, 7, 6,\n",
       "       6, 0, 8, 5, 2, 9, 8, 2, 5, 4, 4, 0, 4, 8, 8, 4, 3, 8, 1, 5, 0, 2,\n",
       "       5, 4, 3, 4, 6, 5, 5, 3, 4, 2, 9, 1, 7, 9, 2, 7, 4, 3, 5, 8, 3, 2,\n",
       "       5, 9, 4, 4, 4, 2, 3, 4, 4, 8, 0, 9, 5, 7, 3, 2, 9, 8, 6, 3, 8, 0,\n",
       "       8, 9, 8, 6, 2, 7, 6, 6, 1, 6, 0, 4, 2, 1, 6, 2, 4, 2, 2, 9, 6, 7,\n",
       "       7, 5, 1, 1, 4, 9, 0, 1, 3, 2, 6, 8, 3, 2, 7, 8, 3, 7, 4, 0, 6, 5,\n",
       "       6, 8, 6, 6, 6, 1, 9, 9, 1, 7, 4, 9, 7, 2, 4, 5, 6, 8, 2, 7, 8, 1,\n",
       "       1, 3, 6, 4, 9, 4, 0, 8, 5, 2, 0, 5, 2, 8, 5, 3, 6, 1, 6, 7, 7, 9,\n",
       "       5, 5, 3, 1, 5, 8, 7, 2, 3, 3, 8, 3, 2, 6, 1, 3, 5, 0, 0, 9, 0, 8,\n",
       "       7, 9, 8, 4, 6, 5, 7, 6, 5, 1, 4, 0, 1, 6, 0, 0, 0, 5, 0, 6, 7, 3,\n",
       "       4, 3, 1, 8, 8, 7, 7, 8, 2, 2, 0, 2, 5, 4, 1, 2, 6, 3, 1, 7, 5, 9,\n",
       "       7, 3, 0, 8, 4, 7, 2, 7, 7, 0, 1, 7, 7, 9, 5, 8, 7, 6, 1, 9, 8, 6,\n",
       "       8, 5, 4, 4, 4, 7, 2, 6, 6, 5, 1, 1, 1, 4, 6, 3, 0, 2, 2, 0, 6, 9,\n",
       "       2, 1, 7, 1, 2, 9, 0, 3, 5, 4, 9, 2, 1, 8, 2, 7, 5, 7, 8, 3, 7, 1,\n",
       "       4, 8, 5, 1, 4, 9, 2, 2, 2, 7, 7, 5, 5, 0, 2, 9, 2, 4, 0, 1, 3, 7,\n",
       "       4, 1, 8, 6, 5, 3, 9, 4, 7, 7, 3, 8, 6, 6, 3, 2, 3, 1, 9, 9, 8, 6,\n",
       "       9, 9, 2, 4, 1, 1, 1, 8, 2, 0, 5, 1, 1, 9, 4, 5, 8, 3, 5, 0, 8, 3,\n",
       "       5, 5, 8, 2, 2, 0, 1, 9, 4, 4, 1, 8, 2, 9, 5, 2, 8, 5, 6, 5, 2, 5,\n",
       "       1, 3, 1, 2, 3, 7, 9, 6, 3, 2, 0, 3, 7, 4, 4, 8, 8, 9, 6, 3, 8, 9,\n",
       "       8, 9, 9, 9, 3, 7, 6, 0, 1, 2, 2, 6, 6, 5, 6, 0, 5, 0, 0, 3, 4, 9,\n",
       "       6, 1, 7, 8, 5, 9, 3, 4, 6, 5, 8, 5, 9, 9, 2, 8, 7, 6, 9, 5, 4, 6,\n",
       "       2, 1, 3, 9, 7, 5, 1, 2, 6, 9, 7, 1, 4, 5, 1, 2, 5, 8, 9, 1, 3, 6,\n",
       "       2, 7, 5, 6, 9, 4, 2, 9, 1, 9, 9, 6, 8, 9, 2, 6, 3, 0, 3, 0, 1, 4,\n",
       "       0, 5, 4, 9, 2, 6, 1, 6, 8, 6, 7, 0, 5, 8, 6, 2, 3, 6, 6, 6, 1, 7,\n",
       "       9, 6, 9, 4, 8, 3, 9, 2, 1, 2, 4, 8, 5, 3, 5, 3, 6, 8, 5, 6, 9, 1,\n",
       "       7, 7, 4, 3, 4, 5, 8, 7, 3, 1, 5, 0, 3, 8, 0, 4, 6, 5, 7, 2, 2, 1,\n",
       "       2, 0, 0, 3, 0, 7, 7, 6, 4, 0])"
      ]
     },
     "execution_count": 56,
     "metadata": {},
     "output_type": "execute_result"
    }
   ],
   "source": [
    "y = np.random.randint(10, size=1000)\n",
    "y"
   ]
  },
  {
   "cell_type": "code",
   "execution_count": 57,
   "metadata": {},
   "outputs": [
    {
     "data": {
      "text/plain": [
       "(array([ 84., 102., 116.,  94.,  95.,  98., 108., 101.,  95., 107.]),\n",
       " array([0. , 0.9, 1.8, 2.7, 3.6, 4.5, 5.4, 6.3, 7.2, 8.1, 9. ]),\n",
       " <a list of 10 Patch objects>)"
      ]
     },
     "execution_count": 57,
     "metadata": {},
     "output_type": "execute_result"
    },
    {
     "data": {
      "image/png": "[encoded data removed]",
      "text/plain": [
       "<Figure size 432x288 with 1 Axes>"
      ]
     },
     "metadata": {
      "needs_background": "light"
     },
     "output_type": "display_data"
    }
   ],
   "source": [
    "plt.hist(y)"
   ]
  },
  {
   "cell_type": "code",
   "execution_count": 13,
   "metadata": {},
   "outputs": [
    {
     "data": {
      "text/plain": [
       "(array([ 8., 11.,  8., 13.,  7., 13., 11., 11.,  8., 10.]),\n",
       " array([ 0. ,  1.9,  3.8,  5.7,  7.6,  9.5, 11.4, 13.3, 15.2, 17.1, 19. ]),\n",
       " <a list of 10 Patch objects>)"
      ]
     },
     "execution_count": 13,
     "metadata": {},
     "output_type": "execute_result"
    },
    {
     "data": {
      "image/png": "[encoded data removed]",
      "text/plain": [
       "<Figure size 432x288 with 1 Axes>"
      ]
     },
     "metadata": {
      "needs_background": "light"
     },
     "output_type": "display_data"
    }
   ],
   "source": [
    "z = np.random.randint(20, size=100)\n",
    "plt.hist(z)"
   ]
  },
  {
   "cell_type": "code",
   "execution_count": null,
   "metadata": {},
   "outputs": [],
   "source": []
  },
  {
   "cell_type": "code",
   "execution_count": null,
   "metadata": {},
   "outputs": [],
   "source": []
  }
 ],
 "metadata": {
  "kernelspec": {
   "display_name": "Python 3",
   "language": "python",
   "name": "python3"
  },
  "language_info": {
   "codemirror_mode": {
    "name": "ipython",
    "version": 3
   },
   "file_extension": ".py",
   "mimetype": "text/x-python",
   "name": "python",
   "nbconvert_exporter": "python",
   "pygments_lexer": "ipython3",
   "version": "3.7.1"
  }
 },
 "nbformat": 4,
 "nbformat_minor": 2
}
