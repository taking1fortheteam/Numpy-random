{
 "cells": [
  {
   "cell_type": "markdown",
   "metadata": {},
   "source": [
    "# The Numpy.random package"
   ]
  },
  {
   "cell_type": "markdown",
   "metadata": {},
   "source": [
    "NumPy, short for Numerical Python, is a library for numerical data analysis or scientific computing within Python. Within the NumPy package there are libraries, each one designed for analysing and manipulating data specific to the users needs. \n",
    "\n",
    "This NoteBook specifically deals with the Random package and should allow the reader to grasp the concept, usage and purpose of the package, while also working through examples of a number of the distributions within the Random package.\n",
    "\n",
    "Random data is an extremely important topic in mathematics or statistical analysis. Simply put, recording the weight of caught fish from Loughrea Lake at a time when the fish population are about to give birth will falsely err on the heavy side where in fact the average woud be generally a lot less. Using random data will allow cancelling out the effect of unobserved factors.  \n",
    "\n",
    "In electronic engineering behaviours of components at the zero crossing can be frought with issues for would be designers. Having computer models and simulations of components around this \"zero crossing\" ought to assist designers to avoid the pitfalls of this unwanted behaviour. If the models were based on data or samples only in the components normal operational conditions, not drawing attention to the zero crossing, may lead to oversights on the designers behalf and result in extreme unwanted behaviours when products reach prototyping stage, or worse again, reach customers. \n",
    "\n",
    "To invoke and include NumPy in our Python programming and analysis, we first need to import the package or library into the Python environment. The following line of code performs this operation:\n"
   ]
  },
  {
   "cell_type": "code",
   "execution_count": 2,
   "metadata": {},
   "outputs": [],
   "source": [
    "import numpy as np"
   ]
  },
  {
   "cell_type": "markdown",
   "metadata": {},
   "source": [
    "Importing NumPy as np - basically as we want to refer to NumPy through out our code from hereafter, we only need to use np rather than re-type NumPy each time. This should save us a little time.\n",
    "\n",
    "# Random.Rand Distribution\n",
    "\n",
    "To get into the different distributions of the Random package we need to start looking at a few. To begin with we will cast our eyes over the Random Rand Distribution.\n",
    "This distribution will return a value (or values) from the standard normal distribution: please refer to the following link for further details:\n",
    "\n",
    "https://docs.scipy.org/doc/numpy-1.14.0/reference/generated/numpy.random.randn.html\n",
    "\n",
    "In this example, the value of x will be equal to a random number. But the random number has to be created, and to do this, NumPy needs to be called upon, followed by the Random distribution, then the Rand \"normal distribution\". The parameter in the brackets can consist of many items, but for this 1st example it is set to only 1 - meaning there wil be only 1 Random Number returned from the Normal Distribution. "
   ]
  },
  {
   "cell_type": "code",
   "execution_count": 3,
   "metadata": {},
   "outputs": [
    {
     "data": {
      "text/plain": [
       "array([0.63658707])"
      ]
     },
     "execution_count": 3,
     "metadata": {},
     "output_type": "execute_result"
    }
   ],
   "source": [
    "x = np.random.rand(1)\n",
    "x"
   ]
  },
  {
   "cell_type": "markdown",
   "metadata": {},
   "source": [
    "Changing the parameter within the brackets will allow any number of random numbers to be generated within an array structure, in the example below, there will be 6 random number arrays returned with 3 arrays of 10 elements in each."
   ]
  },
  {
   "cell_type": "code",
   "execution_count": 4,
   "metadata": {},
   "outputs": [
    {
     "data": {
      "text/plain": [
       "array([[[0.07647705, 0.64858569, 0.98560599, 0.65710123, 0.82936555,\n",
       "         0.93882919, 0.64661735, 0.96738333, 0.65191632, 0.2524434 ],\n",
       "        [0.19341407, 0.44219786, 0.19438074, 0.97968058, 0.476667  ,\n",
       "         0.84173159, 0.39496535, 0.3819042 , 0.19544901, 0.62606573],\n",
       "        [0.80041769, 0.32853327, 0.70632339, 0.32988059, 0.27034731,\n",
       "         0.20016925, 0.6457025 , 0.75911273, 0.55796593, 0.06410699]],\n",
       "\n",
       "       [[0.54893709, 0.74354743, 0.35600006, 0.66669781, 0.35975847,\n",
       "         0.35094379, 0.0835938 , 0.19082037, 0.74643866, 0.66338993],\n",
       "        [0.80255777, 0.40567761, 0.7251783 , 0.91047964, 0.24745352,\n",
       "         0.77294175, 0.92704782, 0.5403608 , 0.94401222, 0.05504809],\n",
       "        [0.54113778, 0.2967614 , 0.01389375, 0.56625895, 0.79409947,\n",
       "         0.34701141, 0.83793258, 0.66527336, 0.424367  , 0.94544977]],\n",
       "\n",
       "       [[0.58540563, 0.74865835, 0.32292251, 0.10368967, 0.27292419,\n",
       "         0.92774163, 0.69703462, 0.63552773, 0.50182816, 0.16888859],\n",
       "        [0.12628107, 0.0169304 , 0.62677693, 0.09447163, 0.40039232,\n",
       "         0.39090342, 0.30166001, 0.13041868, 0.29310917, 0.10742076],\n",
       "        [0.88828488, 0.40440263, 0.13821916, 0.75124561, 0.70615798,\n",
       "         0.09144256, 0.44531925, 0.85819539, 0.77640232, 0.22493917]],\n",
       "\n",
       "       [[0.42910456, 0.06613714, 0.27665404, 0.64606193, 0.96531975,\n",
       "         0.50300206, 0.13487106, 0.35473383, 0.27023208, 0.44445182],\n",
       "        [0.03283812, 0.95519452, 0.60570977, 0.04505724, 0.61809591,\n",
       "         0.59435353, 0.76016258, 0.05909183, 0.41651805, 0.83908915],\n",
       "        [0.98564934, 0.02064103, 0.84163494, 0.35502003, 0.6346218 ,\n",
       "         0.65640248, 0.58002349, 0.05002838, 0.17576438, 0.74813974]],\n",
       "\n",
       "       [[0.08743236, 0.83080637, 0.30840261, 0.66932148, 0.04992201,\n",
       "         0.35613578, 0.00970378, 0.3164916 , 0.47906502, 0.8517471 ],\n",
       "        [0.82367707, 0.32568585, 0.59986517, 0.06490675, 0.16439735,\n",
       "         0.14973075, 0.53030285, 0.46777415, 0.20035772, 0.89326079],\n",
       "        [0.9046422 , 0.58186834, 0.74183449, 0.87139225, 0.52674497,\n",
       "         0.39700626, 0.12178019, 0.87368476, 0.03521111, 0.13172501]],\n",
       "\n",
       "       [[0.85979253, 0.85113764, 0.27545184, 0.10065152, 0.45264337,\n",
       "         0.57557422, 0.52349186, 0.66856528, 0.24529945, 0.22634871],\n",
       "        [0.80607707, 0.55180186, 0.58596272, 0.81181118, 0.99137525,\n",
       "         0.54795375, 0.43286237, 0.06587655, 0.80289846, 0.30299246],\n",
       "        [0.51263358, 0.92009943, 0.9317905 , 0.54917035, 0.00239235,\n",
       "         0.40219522, 0.9583625 , 0.6261649 , 0.88242078, 0.73353909]]])"
      ]
     },
     "execution_count": 4,
     "metadata": {},
     "output_type": "execute_result"
    }
   ],
   "source": [
    "x = np.random.rand(6, 3, 10)\n",
    "x"
   ]
  },
  {
   "cell_type": "markdown",
   "metadata": {},
   "source": [
    "To get more of an understanding of the RAND i.e. RAndom numbers over a uniform distribution package, plotting it reveals what a Uniform Distribution actually entails. There are no special interests i.e. there is approx 1000 random numbers between 0.0 and 0.1 and there is also approx 1000 random numbers created between 0.9 and 1.0. \n",
    "However, one word of caution with all the Random number packages: the values generated may contain the value 0 but will always be less than and never equal to 1. \n",
    "# 0 <= x < 1.\n",
    "Plotting 1000 random numbers shows this random but uniform distribution. "
   ]
  },
  {
   "cell_type": "code",
   "execution_count": 5,
   "metadata": {},
   "outputs": [
    {
     "data": {
      "text/plain": [
       "array([0.73673989, 0.10245195, 0.11401332, ..., 0.31440374, 0.53682492,\n",
       "       0.62895054])"
      ]
     },
     "execution_count": 5,
     "metadata": {},
     "output_type": "execute_result"
    }
   ],
   "source": [
    "x = np.random.rand(10000)\n",
    "x"
   ]
  },
  {
   "cell_type": "code",
   "execution_count": 16,
   "metadata": {},
   "outputs": [
    {
     "data": {
      "text/plain": [
       "Text(0, 0.5, 'Distribution')"
      ]
     },
     "execution_count": 16,
     "metadata": {},
     "output_type": "execute_result"
    },
    {
     "data": {
      "image/png": "[encoded data removed]",
      "text/plain": [
       "<Figure size 432x288 with 1 Axes>"
      ]
     },
     "metadata": {
      "needs_background": "light"
     },
     "output_type": "display_data"
    }
   ],
   "source": [
    "import matplotlib.pyplot as plt\n",
    "plt.hist(x)\n",
    "plt.title('Random Rand')\n",
    "plt.xlabel('Value')\n",
    "plt.ylabel('Distribution')"
   ]
  },
  {
   "cell_type": "markdown",
   "metadata": {},
   "source": [
    "# Random.Randint - Random Integers\n",
    "This package is another part of the Random Library that is very similar to the previous random.rand library, but on this occasion it allows the programmer to choose the range from where the random data should be taken. \n",
    "In the example below, the random numbers generated will be integers i.e. positive whole numbers, between 0 and 9 (the same rule applies in that the maximum number generated will be less than the range of 10 (so in fact 9 is the maximum number returned)), and the size argument is specifying the number of numbers that should be generated, in this case 1000."
   ]
  },
  {
   "cell_type": "code",
   "execution_count": 7,
   "metadata": {},
   "outputs": [
    {
     "data": {
      "text/plain": [
       "array([7, 7, 0, 1, 1, 4, 1, 9, 2, 0, 1, 3, 8, 9, 0, 9, 6, 6, 2, 1, 4, 0,\n",
       "       9, 5, 9, 1, 8, 3, 4, 4, 9, 2, 5, 0, 8, 5, 1, 4, 3, 6, 8, 2, 4, 4,\n",
       "       5, 3, 6, 1, 0, 4, 8, 8, 7, 8, 4, 9, 5, 7, 4, 7, 1, 4, 8, 7, 4, 6,\n",
       "       8, 9, 5, 8, 6, 8, 0, 8, 1, 2, 1, 4, 3, 6, 5, 3, 2, 0, 2, 1, 5, 4,\n",
       "       8, 4, 3, 1, 9, 5, 7, 9, 9, 8, 8, 2, 2, 6, 9, 2, 2, 3, 1, 2, 3, 6,\n",
       "       8, 0, 9, 2, 2, 4, 7, 4, 3, 5, 6, 1, 3, 3, 2, 6, 1, 5, 8, 1, 5, 2,\n",
       "       9, 8, 7, 5, 6, 6, 1, 0, 2, 1, 0, 4, 3, 4, 4, 5, 6, 8, 1, 0, 8, 9,\n",
       "       0, 9, 5, 6, 5, 2, 4, 0, 4, 6, 8, 0, 3, 6, 9, 7, 7, 0, 3, 1, 4, 9,\n",
       "       1, 2, 3, 9, 0, 0, 1, 1, 5, 4, 6, 0, 7, 2, 2, 4, 1, 7, 7, 7, 4, 8,\n",
       "       9, 2, 9, 0, 8, 4, 0, 0, 3, 1, 7, 2, 4, 9, 2, 5, 3, 1, 0, 5, 1, 9,\n",
       "       1, 5, 1, 3, 1, 1, 0, 8, 7, 2, 8, 4, 2, 4, 5, 2, 9, 7, 9, 7, 5, 1,\n",
       "       5, 0, 2, 2, 4, 7, 5, 6, 3, 3, 2, 1, 0, 0, 5, 9, 4, 1, 0, 3, 1, 5,\n",
       "       4, 0, 7, 5, 0, 3, 8, 3, 8, 0, 5, 1, 6, 3, 9, 3, 3, 9, 5, 2, 9, 1,\n",
       "       0, 3, 8, 4, 0, 5, 7, 9, 7, 1, 4, 5, 6, 0, 1, 6, 6, 9, 1, 4, 4, 9,\n",
       "       2, 5, 1, 2, 8, 4, 5, 3, 1, 8, 2, 8, 6, 4, 8, 5, 1, 7, 5, 8, 5, 5,\n",
       "       4, 1, 8, 9, 6, 1, 5, 0, 5, 8, 8, 7, 8, 4, 1, 0, 5, 5, 9, 2, 5, 0,\n",
       "       8, 6, 5, 0, 0, 3, 4, 9, 1, 9, 1, 3, 2, 6, 4, 1, 0, 4, 1, 4, 7, 2,\n",
       "       1, 1, 4, 3, 5, 2, 6, 1, 6, 4, 8, 2, 0, 3, 1, 0, 8, 3, 4, 6, 0, 7,\n",
       "       8, 5, 7, 6, 3, 2, 8, 8, 3, 2, 6, 7, 3, 4, 5, 3, 3, 7, 6, 1, 9, 1,\n",
       "       8, 7, 1, 6, 8, 3, 3, 0, 5, 4, 4, 7, 9, 3, 5, 6, 3, 2, 0, 1, 8, 9,\n",
       "       4, 1, 2, 6, 7, 2, 8, 7, 4, 6, 2, 7, 1, 3, 3, 9, 7, 4, 3, 5, 1, 0,\n",
       "       0, 6, 7, 3, 9, 7, 7, 2, 2, 0, 4, 3, 8, 9, 1, 4, 4, 0, 2, 1, 9, 8,\n",
       "       3, 3, 7, 1, 8, 9, 1, 8, 1, 1, 5, 8, 3, 4, 7, 8, 5, 7, 2, 4, 2, 1,\n",
       "       8, 9, 3, 5, 2, 6, 5, 9, 0, 1, 1, 3, 5, 7, 1, 9, 8, 2, 9, 1, 6, 4,\n",
       "       8, 8, 3, 8, 9, 3, 9, 9, 4, 1, 4, 4, 2, 8, 5, 2, 3, 7, 9, 5, 5, 6,\n",
       "       2, 7, 0, 5, 2, 1, 2, 3, 7, 2, 8, 6, 3, 0, 3, 6, 6, 2, 5, 5, 3, 8,\n",
       "       0, 5, 0, 4, 7, 5, 0, 9, 8, 0, 8, 7, 8, 7, 9, 9, 1, 4, 6, 6, 8, 0,\n",
       "       4, 7, 0, 9, 5, 1, 1, 3, 8, 8, 4, 4, 5, 0, 1, 3, 0, 1, 4, 7, 5, 1,\n",
       "       8, 9, 2, 8, 3, 8, 2, 2, 9, 9, 1, 6, 6, 5, 9, 4, 1, 4, 2, 0, 4, 5,\n",
       "       9, 8, 9, 6, 6, 8, 6, 6, 5, 8, 0, 8, 9, 9, 2, 0, 4, 7, 2, 1, 8, 6,\n",
       "       2, 9, 3, 8, 8, 1, 3, 9, 9, 1, 3, 5, 3, 6, 5, 7, 1, 3, 0, 5, 7, 2,\n",
       "       8, 3, 4, 1, 0, 6, 4, 5, 9, 3, 1, 7, 3, 2, 0, 0, 2, 6, 5, 1, 0, 3,\n",
       "       2, 3, 9, 1, 1, 3, 9, 1, 9, 6, 8, 9, 3, 0, 9, 4, 2, 6, 6, 2, 1, 9,\n",
       "       5, 5, 8, 0, 6, 2, 3, 5, 0, 4, 2, 7, 1, 6, 3, 1, 2, 4, 8, 3, 2, 4,\n",
       "       9, 0, 5, 3, 9, 8, 3, 5, 7, 8, 4, 5, 8, 8, 1, 5, 1, 5, 2, 1, 8, 7,\n",
       "       6, 9, 0, 7, 6, 0, 5, 7, 0, 0, 5, 3, 6, 6, 7, 4, 5, 6, 1, 6, 4, 6,\n",
       "       7, 9, 6, 8, 5, 3, 4, 8, 5, 8, 1, 9, 6, 4, 9, 4, 0, 3, 6, 2, 1, 8,\n",
       "       8, 2, 9, 9, 1, 2, 1, 2, 9, 5, 3, 3, 4, 5, 6, 3, 6, 6, 4, 1, 8, 4,\n",
       "       7, 3, 7, 6, 4, 7, 9, 3, 7, 6, 5, 1, 2, 2, 6, 0, 1, 4, 3, 5, 0, 6,\n",
       "       1, 2, 0, 7, 5, 7, 2, 6, 2, 7, 6, 3, 1, 6, 8, 1, 0, 2, 0, 3, 1, 0,\n",
       "       2, 0, 4, 4, 3, 2, 2, 1, 5, 7, 0, 0, 0, 3, 2, 4, 7, 7, 8, 3, 4, 2,\n",
       "       2, 9, 0, 9, 2, 1, 7, 7, 1, 4, 2, 7, 4, 3, 9, 5, 3, 6, 8, 0, 7, 1,\n",
       "       2, 0, 0, 6, 7, 7, 6, 2, 6, 6, 1, 0, 3, 4, 7, 0, 0, 5, 5, 3, 4, 2,\n",
       "       9, 9, 3, 3, 1, 7, 8, 9, 9, 6, 8, 1, 7, 3, 7, 8, 8, 0, 8, 9, 0, 8,\n",
       "       6, 6, 0, 2, 6, 6, 9, 7, 6, 6, 9, 0, 8, 1, 5, 0, 5, 1, 9, 7, 9, 6,\n",
       "       7, 0, 4, 5, 2, 0, 3, 6, 3, 0])"
      ]
     },
     "execution_count": 7,
     "metadata": {},
     "output_type": "execute_result"
    }
   ],
   "source": [
    "y = np.random.randint(10, size=1000)\n",
    "y"
   ]
  },
  {
   "cell_type": "markdown",
   "metadata": {},
   "source": [
    "As before, plotting the distribution of random numbers generated shows that there is also a uniform distribution associated with this package. "
   ]
  },
  {
   "cell_type": "code",
   "execution_count": 14,
   "metadata": {},
   "outputs": [
    {
     "data": {
      "text/plain": [
       "Text(0, 0.5, 'Distribution')"
      ]
     },
     "execution_count": 14,
     "metadata": {},
     "output_type": "execute_result"
    },
    {
     "data": {
      "image/png": "[encoded data removed]",
      "text/plain": [
       "<Figure size 432x288 with 1 Axes>"
      ]
     },
     "metadata": {
      "needs_background": "light"
     },
     "output_type": "display_data"
    }
   ],
   "source": [
    "plt.hist(y)\n",
    "plt.title('Random Integers')\n",
    "plt.xlabel('Value')\n",
    "plt.ylabel('Distribution')"
   ]
  },
  {
   "cell_type": "markdown",
   "metadata": {},
   "source": [
    "Very little difference to note in this distribution from the previous (Random Rand) distribution apart from the fact that the returned random values are integers. A use of this type Random distribution is in a simple game where a dice throw is required. The code is extremely simple as all that is required is a random number from 1 to 6 to be returned after each dice throw or function call. The following code should suffice:"
   ]
  },
  {
   "cell_type": "code",
   "execution_count": 25,
   "metadata": {},
   "outputs": [
    {
     "data": {
      "text/plain": [
       "array([5])"
      ]
     },
     "execution_count": 25,
     "metadata": {},
     "output_type": "execute_result"
    }
   ],
   "source": [
    "y = np.random.randint(1, 7, size=1) # return 1 random number between 1 and 6 \n",
    "y"
   ]
  },
  {
   "cell_type": "code",
   "execution_count": 9,
   "metadata": {},
   "outputs": [
    {
     "data": {
      "text/plain": [
       "(array([12., 11., 15.,  7.,  8., 11., 12.,  7., 10.,  7.]),\n",
       " array([ 0. ,  1.9,  3.8,  5.7,  7.6,  9.5, 11.4, 13.3, 15.2, 17.1, 19. ]),\n",
       " <a list of 10 Patch objects>)"
      ]
     },
     "execution_count": 9,
     "metadata": {},
     "output_type": "execute_result"
    },
    {
     "data": {
      "image/png": "[encoded data removed]",
      "text/plain": [
       "<Figure size 432x288 with 1 Axes>"
      ]
     },
     "metadata": {
      "needs_background": "light"
     },
     "output_type": "display_data"
    }
   ],
   "source": [
    "z = np.random.randint(20, size=100)\n",
    "plt.hist(z)"
   ]
  },
  {
   "cell_type": "code",
   "execution_count": null,
   "metadata": {},
   "outputs": [],
   "source": []
  },
  {
   "cell_type": "code",
   "execution_count": null,
   "metadata": {},
   "outputs": [],
   "source": []
  },
  {
   "cell_type": "code",
   "execution_count": null,
   "metadata": {},
   "outputs": [],
   "source": []
  }
 ],
 "metadata": {
  "kernelspec": {
   "display_name": "Python 3",
   "language": "python",
   "name": "python3"
  },
  "language_info": {
   "codemirror_mode": {
    "name": "ipython",
    "version": 3
   },
   "file_extension": ".py",
   "mimetype": "text/x-python",
   "name": "python",
   "nbconvert_exporter": "python",
   "pygments_lexer": "ipython3",
   "version": "3.7.1"
  }
 },
 "nbformat": 4,
 "nbformat_minor": 2
}
