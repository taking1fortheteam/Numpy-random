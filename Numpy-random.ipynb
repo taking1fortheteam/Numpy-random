{
 "cells": [
  {
   "cell_type": "markdown",
   "metadata": {},
   "source": [
    "# The NumPy Random Package"
   ]
  },
  {
   "cell_type": "markdown",
   "metadata": {},
   "source": [
    "NumPy, short for Numerical Python, is a library for numerical data analysis or scientific computing within Python. Within the NumPy library there are packages, each one designed for analysing and manipulating data specific to the users needs. \n",
    "\n",
    "This NoteBook specifically deals with the Random package and should allow the reader to grasp the concept, usage and purpose of the package, while also working through examples of a number of the functions within the Random package.\n",
    "\n",
    "Random data is an extremely important topic in mathematics or statistical analysis.In electronic engineering, behaviours of components at the zero crossing can be frought with issues for would be designers. Having computer models and simulations of components around this \"zero crossing\" ought to assist designers to avoid the pitfalls of this unwanted behaviour. If the models were based on data or samples only in the components normal or ideal operational conditions, not drawing attention to the zero crossing, may lead to oversights on the designers behalf and result in extreme unwanted behaviours when products reach prototyping stage, or worse again, reach customers. \n",
    "\n",
    "To invoke and include NumPy in our Python programming and analysis, we first need to import the package or library into the Python environment. The following line of code performs this operation:\n"
   ]
  },
  {
   "cell_type": "code",
   "execution_count": 3,
   "metadata": {},
   "outputs": [],
   "source": [
    "import numpy as np"
   ]
  },
  {
   "cell_type": "markdown",
   "metadata": {},
   "source": [
    "Importing NumPy as np - a small saving of time can be acquired here bythe programmer as they will not be required to enter NumPy each time, but rather np.\n",
    "\n",
    "# Random.Rand Distribution\n",
    "\n",
    "To get into the different functions of the Random package we need to start looking at a few. To begin with we will cast our eyes over the Random Rand function.\n",
    "This function will return a value (or values) from the standard normal distribution: please refer to the following link for further details:\n",
    "\n",
    "https://docs.scipy.org/doc/numpy-1.14.0/reference/generated/numpy.random.randn.html\n",
    "\n",
    "In this example, the value of x will be equal to a random number. But the random number has to be generated, and to do this, NumPy needs to be called upon, followed by the Random distribution, then the Rand \"normal distribution\". The parameter in the brackets can consist of many items, but for this 1st example it is set to only 1 - meaning there will be only 1 Random Number returned from the Normal Distribution. "
   ]
  },
  {
   "cell_type": "code",
   "execution_count": 4,
   "metadata": {},
   "outputs": [
    {
     "data": {
      "text/plain": [
       "array([0.74044858])"
      ]
     },
     "execution_count": 4,
     "metadata": {},
     "output_type": "execute_result"
    }
   ],
   "source": [
    "x = np.random.rand(1)\n",
    "x"
   ]
  },
  {
   "cell_type": "markdown",
   "metadata": {},
   "source": [
    "A returned value identified as an array encapsulated within a square bracket and parenthesis.\n",
    "\n",
    "Changing the parameter within the brackets (np.random.rand()) will allow any number of random numbers to be generated within an array structure, in the example below, there will be 6 random number arrays returned with 3 arrays of 10 elements in each."
   ]
  },
  {
   "cell_type": "code",
   "execution_count": 5,
   "metadata": {},
   "outputs": [
    {
     "data": {
      "text/plain": [
       "array([[[0.67842883, 0.19417758, 0.80215818, 0.7484136 , 0.22551917,\n",
       "         0.77657323, 0.84912013, 0.00807309, 0.83208809, 0.8387367 ],\n",
       "        [0.94580254, 0.43302916, 0.02721064, 0.93886383, 0.86784829,\n",
       "         0.91248411, 0.13037961, 0.90044831, 0.46416083, 0.07108544],\n",
       "        [0.43007534, 0.23144019, 0.87146802, 0.59839257, 0.65384808,\n",
       "         0.40435386, 0.17239985, 0.49617655, 0.90510598, 0.4281245 ]],\n",
       "\n",
       "       [[0.22592982, 0.04312058, 0.88047303, 0.28177503, 0.93901631,\n",
       "         0.19379508, 0.04636355, 0.94924621, 0.00750358, 0.49398338],\n",
       "        [0.42608634, 0.79227484, 0.71580658, 0.88903675, 0.31452598,\n",
       "         0.38995386, 0.30882497, 0.1809889 , 0.09388712, 0.5700216 ],\n",
       "        [0.8221209 , 0.61566107, 0.24964392, 0.36386721, 0.73342849,\n",
       "         0.07740009, 0.92791135, 0.68151094, 0.90045434, 0.1480893 ]],\n",
       "\n",
       "       [[0.38345897, 0.07339994, 0.77935706, 0.2280067 , 0.4177447 ,\n",
       "         0.68613176, 0.46670908, 0.03658345, 0.68054705, 0.79553178],\n",
       "        [0.33708495, 0.44161593, 0.78522499, 0.00323824, 0.60323539,\n",
       "         0.37055092, 0.47728289, 0.45818175, 0.7375907 , 0.31316395],\n",
       "        [0.8116909 , 0.90792349, 0.08157556, 0.80721924, 0.05188693,\n",
       "         0.18218477, 0.18456668, 0.28196317, 0.83224868, 0.21532401]],\n",
       "\n",
       "       [[0.77759551, 0.93830941, 0.6857451 , 0.7823467 , 0.89454059,\n",
       "         0.48590479, 0.540231  , 0.58411694, 0.16902714, 0.2167263 ],\n",
       "        [0.1235545 , 0.5459454 , 0.54594272, 0.37249763, 0.5726451 ,\n",
       "         0.50066904, 0.42597255, 0.11118541, 0.90721815, 0.25576929],\n",
       "        [0.59062202, 0.23920676, 0.07328551, 0.39985115, 0.56935496,\n",
       "         0.48824727, 0.81154347, 0.74236665, 0.58880783, 0.84731698]],\n",
       "\n",
       "       [[0.38709737, 0.25919125, 0.95800071, 0.67518806, 0.76461245,\n",
       "         0.7063183 , 0.12882025, 0.09927834, 0.25732288, 0.98792537],\n",
       "        [0.07014176, 0.37550595, 0.75450062, 0.20095482, 0.14660849,\n",
       "         0.2071358 , 0.8061073 , 0.75867643, 0.83321872, 0.50634414],\n",
       "        [0.41405178, 0.65328979, 0.19412322, 0.96640455, 0.85365696,\n",
       "         0.45063752, 0.50877508, 0.97565243, 0.76465978, 0.66817195]],\n",
       "\n",
       "       [[0.85714883, 0.47119992, 0.44991374, 0.13187011, 0.06150768,\n",
       "         0.64269922, 0.25044412, 0.69310002, 0.91860919, 0.72074556],\n",
       "        [0.40076311, 0.30874153, 0.09255448, 0.19510739, 0.09944958,\n",
       "         0.83897876, 0.79378798, 0.81465792, 0.31661337, 0.06916506],\n",
       "        [0.19888617, 0.69752307, 0.11420326, 0.61392483, 0.86933581,\n",
       "         0.34286389, 0.06526792, 0.59280329, 0.74068116, 0.53184763]]])"
      ]
     },
     "execution_count": 5,
     "metadata": {},
     "output_type": "execute_result"
    }
   ],
   "source": [
    "x = np.random.rand(6, 3, 10)\n",
    "x"
   ]
  },
  {
   "cell_type": "markdown",
   "metadata": {},
   "source": [
    "PLotting of the returned values will assist viaualising the different functions and their outputs. There are no special interests i.e. there is approx 1000 random numbers between 0.0 and 0.1 and there is also approx 1000 random numbers created between 0.9 and 1.0. \n",
    "However, one word of caution with all the Random number packages: the values generated may contain the value 0 but will always be less than and never equal to 1 i.e. 0 <= x < 1\n",
    "\n",
    "Plotting 1000 random numbers shows this random but uniform distribution. "
   ]
  },
  {
   "cell_type": "code",
   "execution_count": 24,
   "metadata": {},
   "outputs": [
    {
     "data": {
      "text/plain": [
       "array([0.45123038, 0.02389086, 0.09335319, ..., 0.05579766, 0.54587203,\n",
       "       0.84547357])"
      ]
     },
     "execution_count": 24,
     "metadata": {},
     "output_type": "execute_result"
    }
   ],
   "source": [
    "x = np.random.rand(10000)\n",
    "x"
   ]
  },
  {
   "cell_type": "code",
   "execution_count": 25,
   "metadata": {},
   "outputs": [
    {
     "data": {
      "text/plain": [
       "Text(0, 0.5, 'Distribution')"
      ]
     },
     "execution_count": 25,
     "metadata": {},
     "output_type": "execute_result"
    },
    {
     "data": {
      "image/png": "[encoded data removed]",
      "text/plain": [
       "<Figure size 432x288 with 1 Axes>"
      ]
     },
     "metadata": {
      "needs_background": "light"
     },
     "output_type": "display_data"
    }
   ],
   "source": [
    "import matplotlib.pyplot as plt\n",
    "plt.hist(x)\n",
    "plt.title('Random Rand')\n",
    "plt.xlabel('Value')\n",
    "plt.ylabel('Distribution')"
   ]
  },
  {
   "cell_type": "markdown",
   "metadata": {},
   "source": [
    "# Random.Randint - Random Integers\n",
    "This package is another part of the Random Library that is very similar to the previous random.rand function, but on this occasion it allows the programmer to choose the range from where the random data should be taken. \n",
    "In the example below, the random numbers generated will be integers i.e. positive whole numbers, between 0 and 9 (the same rule applies in that the maximum number generated will be less than the range of 10 (so in fact 9 is the maximum number returned)), and the size argument is specifying the number of numbers that should be generated, in this case 1000."
   ]
  },
  {
   "cell_type": "code",
   "execution_count": 26,
   "metadata": {},
   "outputs": [
    {
     "data": {
      "text/plain": [
       "array([8, 5, 2, 8, 5, 7, 2, 5, 3, 4, 4, 0, 7, 5, 4, 1, 5, 2, 3, 8, 7, 6,\n",
       "       7, 7, 9, 3, 9, 3, 1, 5, 9, 1, 8, 9, 0, 1, 7, 9, 3, 9, 5, 2, 3, 7,\n",
       "       8, 4, 8, 5, 2, 5, 6, 1, 6, 5, 7, 9, 3, 0, 9, 9, 6, 6, 3, 2, 3, 5,\n",
       "       7, 3, 6, 0, 3, 0, 8, 7, 1, 7, 6, 0, 8, 3, 2, 0, 9, 3, 0, 7, 4, 1,\n",
       "       6, 3, 1, 4, 5, 7, 8, 3, 5, 9, 6, 2, 7, 7, 1, 0, 2, 6, 4, 6, 2, 2,\n",
       "       5, 2, 6, 3, 0, 1, 3, 6, 2, 2, 8, 5, 1, 1, 0, 6, 5, 6, 4, 8, 0, 8,\n",
       "       2, 8, 9, 7, 0, 4, 3, 1, 6, 1, 6, 2, 7, 9, 1, 6, 3, 2, 3, 2, 7, 9,\n",
       "       3, 7, 7, 0, 3, 5, 7, 5, 6, 2, 7, 1, 6, 8, 9, 7, 8, 2, 2, 7, 8, 2,\n",
       "       7, 0, 5, 8, 6, 0, 4, 7, 1, 4, 4, 1, 5, 0, 7, 2, 8, 0, 0, 9, 1, 9,\n",
       "       4, 0, 2, 5, 4, 2, 1, 7, 2, 1, 9, 9, 7, 5, 8, 0, 2, 7, 0, 1, 9, 7,\n",
       "       0, 9, 7, 5, 0, 1, 6, 7, 9, 2, 3, 6, 5, 6, 2, 8, 6, 2, 5, 1, 7, 8,\n",
       "       0, 6, 1, 6, 1, 6, 7, 4, 7, 4, 2, 1, 2, 0, 2, 4, 7, 9, 7, 2, 0, 1,\n",
       "       3, 9, 6, 9, 4, 6, 6, 3, 1, 9, 8, 6, 0, 9, 5, 3, 9, 0, 5, 6, 2, 3,\n",
       "       7, 3, 3, 8, 5, 8, 5, 4, 8, 0, 9, 8, 6, 8, 5, 3, 1, 7, 3, 4, 9, 0,\n",
       "       5, 7, 2, 3, 9, 5, 4, 6, 8, 7, 6, 1, 2, 6, 5, 6, 1, 4, 9, 6, 2, 0,\n",
       "       3, 5, 9, 7, 8, 5, 0, 6, 7, 0, 8, 6, 5, 0, 9, 8, 2, 9, 4, 7, 3, 7,\n",
       "       8, 3, 6, 8, 5, 8, 4, 6, 1, 9, 7, 1, 2, 1, 7, 9, 7, 7, 2, 6, 4, 8,\n",
       "       1, 0, 4, 4, 6, 9, 3, 6, 6, 1, 5, 7, 0, 9, 5, 1, 7, 1, 2, 2, 4, 9,\n",
       "       7, 0, 4, 0, 6, 7, 4, 2, 8, 4, 8, 4, 3, 3, 3, 5, 1, 3, 5, 9, 7, 4,\n",
       "       9, 4, 3, 8, 5, 5, 6, 7, 7, 8, 1, 9, 3, 4, 9, 1, 1, 6, 2, 9, 4, 1,\n",
       "       4, 9, 5, 7, 2, 8, 0, 2, 8, 1, 2, 2, 4, 4, 1, 6, 2, 6, 9, 4, 8, 8,\n",
       "       1, 3, 6, 6, 6, 2, 7, 7, 7, 8, 8, 8, 4, 6, 1, 8, 3, 4, 2, 6, 0, 7,\n",
       "       4, 2, 3, 9, 5, 5, 2, 3, 3, 4, 1, 0, 9, 2, 3, 1, 0, 1, 3, 5, 3, 4,\n",
       "       2, 5, 3, 0, 6, 5, 1, 2, 3, 7, 8, 7, 0, 3, 8, 5, 7, 5, 3, 6, 7, 8,\n",
       "       4, 4, 3, 2, 9, 3, 8, 5, 0, 4, 8, 7, 0, 8, 9, 9, 6, 4, 3, 6, 2, 8,\n",
       "       2, 3, 6, 1, 5, 0, 7, 2, 4, 2, 1, 2, 4, 3, 0, 0, 8, 9, 7, 3, 6, 0,\n",
       "       2, 0, 8, 5, 2, 2, 9, 8, 4, 2, 5, 7, 5, 7, 6, 5, 5, 3, 3, 5, 2, 1,\n",
       "       5, 2, 5, 1, 8, 7, 6, 1, 5, 4, 3, 5, 0, 5, 7, 2, 7, 1, 0, 9, 6, 2,\n",
       "       3, 1, 6, 6, 1, 2, 2, 5, 6, 0, 5, 9, 2, 8, 3, 2, 6, 8, 9, 0, 2, 4,\n",
       "       2, 7, 8, 5, 7, 6, 4, 3, 8, 4, 5, 8, 0, 9, 2, 5, 0, 0, 1, 9, 9, 0,\n",
       "       0, 0, 8, 6, 3, 0, 3, 2, 2, 9, 1, 3, 8, 3, 3, 9, 8, 1, 1, 2, 6, 4,\n",
       "       1, 5, 1, 0, 9, 7, 0, 3, 6, 0, 3, 3, 3, 3, 5, 6, 4, 6, 6, 0, 8, 6,\n",
       "       0, 4, 7, 1, 3, 3, 2, 0, 0, 7, 1, 6, 3, 4, 8, 1, 4, 4, 9, 4, 5, 5,\n",
       "       3, 6, 8, 8, 9, 8, 9, 2, 8, 5, 3, 9, 2, 9, 5, 7, 2, 9, 6, 6, 9, 0,\n",
       "       4, 3, 7, 6, 7, 2, 7, 7, 9, 6, 3, 3, 9, 9, 0, 8, 9, 6, 3, 3, 5, 5,\n",
       "       8, 3, 9, 9, 1, 6, 2, 8, 6, 4, 9, 8, 5, 8, 0, 8, 4, 6, 9, 4, 3, 9,\n",
       "       5, 8, 9, 2, 3, 7, 5, 5, 5, 4, 3, 6, 3, 8, 7, 7, 9, 6, 6, 3, 4, 3,\n",
       "       4, 9, 2, 8, 7, 1, 4, 8, 7, 7, 5, 6, 9, 2, 7, 6, 1, 8, 6, 0, 4, 8,\n",
       "       9, 1, 0, 4, 5, 7, 4, 6, 6, 7, 1, 6, 2, 6, 7, 7, 9, 9, 5, 8, 2, 1,\n",
       "       6, 9, 0, 0, 2, 2, 5, 0, 0, 0, 1, 5, 4, 4, 8, 2, 0, 8, 8, 3, 1, 0,\n",
       "       6, 7, 9, 8, 5, 3, 8, 4, 1, 7, 1, 0, 5, 1, 7, 1, 7, 1, 5, 6, 0, 2,\n",
       "       5, 4, 5, 5, 1, 1, 6, 4, 4, 3, 1, 4, 2, 4, 3, 6, 9, 3, 5, 3, 1, 7,\n",
       "       2, 2, 4, 1, 3, 6, 0, 1, 0, 1, 5, 6, 3, 4, 2, 3, 8, 8, 7, 4, 4, 4,\n",
       "       4, 5, 7, 6, 5, 4, 7, 8, 8, 5, 0, 9, 1, 3, 9, 5, 1, 8, 5, 4, 6, 2,\n",
       "       8, 6, 9, 7, 4, 5, 7, 7, 7, 3, 2, 1, 9, 5, 7, 7, 8, 6, 2, 5, 1, 0,\n",
       "       5, 0, 6, 8, 1, 6, 8, 8, 1, 4])"
      ]
     },
     "execution_count": 26,
     "metadata": {},
     "output_type": "execute_result"
    }
   ],
   "source": [
    "y = np.random.randint(10, size=1000)\n",
    "y"
   ]
  },
  {
   "cell_type": "markdown",
   "metadata": {},
   "source": [
    "As before, plotting the distribution of random numbers generated shows that there is also a uniform distribution associated with this function. "
   ]
  },
  {
   "cell_type": "code",
   "execution_count": 9,
   "metadata": {},
   "outputs": [
    {
     "data": {
      "text/plain": [
       "Text(0, 0.5, 'Distribution')"
      ]
     },
     "execution_count": 9,
     "metadata": {},
     "output_type": "execute_result"
    },
    {
     "data": {
      "image/png": "[encoded data removed]",
      "text/plain": [
       "<Figure size 432x288 with 1 Axes>"
      ]
     },
     "metadata": {
      "needs_background": "light"
     },
     "output_type": "display_data"
    }
   ],
   "source": [
    "plt.hist(y)\n",
    "plt.title('Random Integers')\n",
    "plt.xlabel('Value')\n",
    "plt.ylabel('Distribution')"
   ]
  },
  {
   "cell_type": "markdown",
   "metadata": {},
   "source": [
    "Very little difference to note in this distribution from the previous (Random Rand) distribution apart from the fact that the returned random values are integers. A use of this type Random distribution is in a simple game where a dice throw is required. The code is extremely simple as all that is required is a random number from 1 to 6 to be returned after each dice throw or function call. The following code should suffice:"
   ]
  },
  {
   "cell_type": "code",
   "execution_count": 30,
   "metadata": {},
   "outputs": [
    {
     "data": {
      "text/plain": [
       "array([1])"
      ]
     },
     "execution_count": 30,
     "metadata": {},
     "output_type": "execute_result"
    }
   ],
   "source": [
    "y = np.random.randint(1, 7, size=1) # return 1 random number between 1 and 6 \n",
    "y"
   ]
  },
  {
   "cell_type": "markdown",
   "metadata": {},
   "source": [
    "# Numpy Random Geometric\n",
    "This function is specifically designed to create psuedo random data with a Geometric distribution. "
   ]
  },
  {
   "cell_type": "code",
   "execution_count": 31,
   "metadata": {},
   "outputs": [
    {
     "data": {
      "text/plain": [
       "(array([52., 22.,  8.,  7.,  5.,  3.,  0.,  0.,  2.,  1.]),\n",
       " array([ 1. ,  3.7,  6.4,  9.1, 11.8, 14.5, 17.2, 19.9, 22.6, 25.3, 28. ]),\n",
       " <a list of 10 Patch objects>)"
      ]
     },
     "execution_count": 31,
     "metadata": {},
     "output_type": "execute_result"
    },
    {
     "data": {
      "image/png": "[encoded data removed]",
      "text/plain": [
       "<Figure size 432x288 with 1 Axes>"
      ]
     },
     "metadata": {
      "needs_background": "light"
     },
     "output_type": "display_data"
    }
   ],
   "source": [
    "z = np.random.geometric(p=0.2, size=100)\n",
    "plt.title('Random Geometric')\n",
    "plt.xlabel('Value')\n",
    "plt.ylabel('Distribution')\n",
    "plt.hist(z)"
   ]
  },
  {
   "cell_type": "markdown",
   "metadata": {},
   "source": [
    "# NumPy Random Laplace\n",
    "This function is specifically designed to create psuedo random data with a Laplace distribution. "
   ]
  },
  {
   "cell_type": "code",
   "execution_count": 33,
   "metadata": {},
   "outputs": [
    {
     "data": {
      "text/plain": [
       "(array([52., 15., 10.,  6.,  7.,  4.,  2.,  2.,  0.,  2.]),\n",
       " array([ 1. ,  3.7,  6.4,  9.1, 11.8, 14.5, 17.2, 19.9, 22.6, 25.3, 28. ]),\n",
       " <a list of 10 Patch objects>)"
      ]
     },
     "execution_count": 33,
     "metadata": {},
     "output_type": "execute_result"
    },
    {
     "data": {
      "image/png": "[encoded data removed]",
      "text/plain": [
       "<Figure size 432x288 with 1 Axes>"
      ]
     },
     "metadata": {
      "needs_background": "light"
     },
     "output_type": "display_data"
    }
   ],
   "source": [
    "z = np.random.geometric(p=0.2, size=100)\n",
    "plt.title('Random Laplace')\n",
    "plt.xlabel('Value')\n",
    "plt.ylabel('Distribution')\n",
    "plt.hist(z)"
   ]
  },
  {
   "cell_type": "markdown",
   "metadata": {},
   "source": [
    "# NumPy Random Normal\n",
    "Known as the Gaussian distribution or normal distribution, it has come to be kown as the Bell Curve because of its Bell shaped curve. \n",
    "\n",
    "The Bell Curve is based on the following formula, where P(x) = probability density, µ is the mean and σ is the standard deviation.\n"
   ]
  },
  {
   "cell_type": "markdown",
   "metadata": {},
   "source": [
    "$$p(x) = \\frac{1}{\\sqrt{2\\pi\\sigma^2}}\\mathrm{e}^{-}\\frac{{(x-\\mu)^2}}{2\\sigma^2}$$\n",
    "\n"
   ]
  },
  {
   "cell_type": "markdown",
   "metadata": {},
   "source": [
    "Plotting the Bell Curve is relatively straight forward and the plot is as follows:\n",
    "The function name is np.random.normal, followed by open bracket, loc= (the mean of the distribution), scale= (the standard deviation of the distribution) and the size= which doesn't require further explanation."
   ]
  },
  {
   "cell_type": "code",
   "execution_count": 34,
   "metadata": {},
   "outputs": [
    {
     "data": {
      "text/plain": [
       "(array([   6.,   89.,  494., 1703., 2849., 2754., 1580.,  448.,   69.,\n",
       "           8.]), array([-31.75194351, -25.359775  , -18.96760648, -12.57543797,\n",
       "         -6.18326946,   0.20889906,   6.60106757,  12.99323609,\n",
       "         19.3854046 ,  25.77757311,  32.16974163]), <a list of 10 Patch objects>)"
      ]
     },
     "execution_count": 34,
     "metadata": {},
     "output_type": "execute_result"
    },
    {
     "data": {
      "image/png": "[encoded data removed]",
      "text/plain": [
       "<Figure size 432x288 with 1 Axes>"
      ]
     },
     "metadata": {
      "needs_background": "light"
     },
     "output_type": "display_data"
    }
   ],
   "source": [
    "x = np.random.normal(loc=0, scale= 8, size=10000)\n",
    "plt.title('Random Normal')\n",
    "plt.xlabel('Value')\n",
    "plt.ylabel('Distribution')\n",
    "plt.hist(x)"
   ]
  },
  {
   "cell_type": "markdown",
   "metadata": {},
   "source": [
    "# Numpy Random Permutation\n",
    "A function specifically for changing the arrangement of a set of items in an array. \n",
    "An array of numbers can be jumbled with a call to this function. As an example, the array z with 10 values, 1 to 10, can be permutated as follows:"
   ]
  },
  {
   "cell_type": "code",
   "execution_count": 35,
   "metadata": {},
   "outputs": [
    {
     "data": {
      "text/plain": [
       "array([ 1,  6,  7,  9,  4,  2,  8,  3, 10,  5])"
      ]
     },
     "execution_count": 35,
     "metadata": {},
     "output_type": "execute_result"
    }
   ],
   "source": [
    "z = np.random.permutation([1,2,3,4,5,6,7,8,9,10])\n",
    "z"
   ]
  },
  {
   "cell_type": "markdown",
   "metadata": {},
   "source": [
    "This jumbling of an array is a difficult one to find uses or applications for but a simple one might be a gameshow where a contestant is shown a number of prizes, the prizes are then placed in boxes or behind prize doors, numbered 1 to 10 (as in the example above). As the contestant traverses the questions and selects doors to be opened, the prizes are revealed to them, hoping that the booby prize is not in the ranking! If the top prize of a car is numbered 10 to begin, but after the permutation is numbered 5, the contestants chances are completely in God's hands, unless the contestant is aware of the seed value and a whizz at maths!"
   ]
  },
  {
   "cell_type": "markdown",
   "metadata": {},
   "source": [
    "# The Seed\n",
    "# Is a Random Number generated by a computer truly random? \n",
    "The simple answer to this question is no. \n",
    "\n",
    "For a Random Number to be a True Random Number, 2 conditions have to be met:(1) the values are uniformly distributed over a defined interval or set, and (2) it is impossible to predict future values based on past or present ones.\n",
    "\n",
    "Quote taken from https://whatis.techtarget.com/definition/random-numbers\n",
    "\n",
    "With this in mind, a computer can therefore not generate a truly random number but can create or provide a number or sequence of numbers that may appear random. These computer generated random numbers are referred to as pseudo random numbers. Why is this fact so important? \n",
    "\n",
    "A number of years ago Intel developed a series of microprocesors with the ability to create random numbers. However, without divulging the details of this function of the Intel Microprocessor, the world was informed that the random number generator was a black box. You ask it to provide a number and it would return a random number. With this vague and lack of specific information on this black box, the Random number generator on the Intel Chips soon became a thing of the past and was discontinued a number of years later. People the world over couldn't count on what was inside the black box, as they knew that any computer generated random number (pseudo random number) could be theoretically predicted if the seed was known by somebody wanting to try and predict or crack the Intel code. \n",
    "\n",
    "A Pseudo Random Number is a number that is created by a call to a processor to provide a number. Pi is a good example to employ here as it's relationship between the radius and the circumference of the circle is a recurring number that appears to have no repetition and appears to be completely random in nature. \n",
    "# 3.14159 26535 89793 23846 26433 83279 50288 41971 69399 37510 58209 74944 59230 78164 06286 20899 86280 34825 34211 7067.....\n",
    ".....the first 100 digits of Pi. \n",
    "A simple observation denotes that there is no repetition, or pattern and the same can be said for the millions of digits to the right of the decimal point that has been worked out to date. \n",
    "\n",
    "The value Pi seems an obvious choice for pseudo random numbers generation because of these characteristics. If a computer is powered on and after 56 minutes is requested to provide a random number, then it may go to the 56th digit after the decimal point in the Pi string where it wil begin providing these numbers back to the function requestion it. 74944 are the 56th and subsequent 4 numbers after he 56th position. Is this truly random? No, but it appears so. \n",
    "\n",
    "Additionally, and theoretically if 2 X identical computers are powered on simultaneously and are requested to provide a pseudo random number at exactly the same time, the results could be the same. Not only that, but if a hacker was to decipher the \"seed\", the seed being the location of the very first number being selected from the pseudo random sequence, then theoretically they coulld forsee what the subsequent random numbers are going to be. \n",
    "\n",
    "# Are there truly random number generators?\n",
    "Thankfully there are random number generators in existence that don't rely on computers so therefore eliminate the potential to prophesize subsequent numbers. One such method is to reflect lazers off a lava lamp as it melts and shifts within itelf thereby producing a completely random pattern. Another method is for a computer to measure the radioactive decay of an atom since there is no way to predict when radioactive decay will occur. "
   ]
  }
 ],
 "metadata": {
  "kernelspec": {
   "display_name": "Python 3",
   "language": "python",
   "name": "python3"
  },
  "language_info": {
   "codemirror_mode": {
    "name": "ipython",
    "version": 3
   },
   "file_extension": ".py",
   "mimetype": "text/x-python",
   "name": "python",
   "nbconvert_exporter": "python",
   "pygments_lexer": "ipython3",
   "version": "3.7.1"
  }
 },
 "nbformat": 4,
 "nbformat_minor": 2
}
