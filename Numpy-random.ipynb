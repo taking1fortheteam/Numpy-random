{
 "cells": [
  {
   "cell_type": "markdown",
   "metadata": {},
   "source": [
    "# The Numpy.random package"
   ]
  },
  {
   "cell_type": "markdown",
   "metadata": {},
   "source": [
    "NumPy, short for Numerical Python, is a library for numerical data analysis or scientific computing within Python. Within the NumPy package there are libraries, each one designed for analysing and manipulating data specific to the users needs. \n",
    "\n",
    "This NoteBook specifically deals with the Random package and should allow the reader to grasp the concept, usage and purpose of the package, while also working through examples of a number of the distributions within the Random package.\n",
    "\n",
    "Random data is an extremely important topic in mathematics or statistical analysis. Simply put, recording the weight of caught fish from Loughrea Lake at a time when the fish population are about to give birth will falsely err on the heavy side where in fact the average woud be generally a lot less. Using random data will allow cancelling out the effect of unobserved factors.  \n",
    "\n",
    "In electronic engineering behaviours of components at the zero crossing can be frought with issues for would be designers. Having computer models and simulations of components around this \"zero crossing\" ought to assist designers to avoid the pitfalls of this unwanted behaviour. If the models were based on data or samples only in the components normal operational conditions, not drawing attention to the zero crossing, may lead to oversights on the designers behalf and result in extreme unwanted behaviours when products reach prototyping stage, or worse again, reach customers. \n",
    "\n",
    "To invoke and include NumPy in our Python programming and analysis, we first need to import the package or library into the Python environment. The following line of code performs this operation:\n"
   ]
  },
  {
   "cell_type": "code",
   "execution_count": 2,
   "metadata": {},
   "outputs": [],
   "source": [
    "import numpy as np"
   ]
  },
  {
   "cell_type": "markdown",
   "metadata": {},
   "source": [
    "Importing NumPy as np - basically as we want to refer to NumPy through out our code from hereafter, we only need to use np rather than re-type NumPy each time. This should save us a little time.\n",
    "\n",
    "# Random.Rand Distribution\n",
    "\n",
    "To get into the different distributions of the Random package we need to start looking at a few. To begin with we will cast our eyes over the Random Rand Distribution.\n",
    "This distribution will return a value (or values) from the standard normal distribution: please refer to the following link for further details:\n",
    "\n",
    "https://docs.scipy.org/doc/numpy-1.14.0/reference/generated/numpy.random.randn.html\n",
    "\n",
    "In this example, the value of x will be equal to a random number. But the random number has to be created, and to do this, NumPy needs to be called upon, followed by the Random distribution, then the Rand \"normal distribution\". The parameter in the brackets can consist of many items, but for this 1st example it is set to only 1 - meaning there wil be only 1 Random Number returned from the Normal Distribution. "
   ]
  },
  {
   "cell_type": "code",
   "execution_count": 3,
   "metadata": {},
   "outputs": [
    {
     "data": {
      "text/plain": [
       "array([0.95512122])"
      ]
     },
     "execution_count": 3,
     "metadata": {},
     "output_type": "execute_result"
    }
   ],
   "source": [
    "x = np.random.rand(1)\n",
    "x"
   ]
  },
  {
   "cell_type": "markdown",
   "metadata": {},
   "source": [
    "Changing the parameter within the brackets will allow any number of random numbers to be generated within an array structure, in the example below, there will be 6 random number arrays returned with 3 arrays of 10 elements in each."
   ]
  },
  {
   "cell_type": "code",
   "execution_count": 4,
   "metadata": {},
   "outputs": [
    {
     "data": {
      "text/plain": [
       "array([[[3.99018145e-01, 6.87458380e-01, 2.78473759e-01, 6.47446687e-01,\n",
       "         4.58407764e-01, 3.05658028e-01, 8.91707952e-01, 1.32753106e-01,\n",
       "         8.32943512e-01, 6.78642658e-01],\n",
       "        [5.66002978e-01, 7.82061762e-01, 3.72465234e-01, 9.60770278e-01,\n",
       "         7.18361169e-01, 5.92998792e-01, 1.24370486e-01, 9.20250118e-01,\n",
       "         1.36517175e-01, 1.92049610e-01],\n",
       "        [7.01992558e-01, 8.82622669e-02, 4.82116212e-01, 9.83296830e-01,\n",
       "         5.35668590e-01, 6.78972496e-01, 4.79215237e-01, 9.36075066e-01,\n",
       "         6.23965507e-01, 2.50956582e-01]],\n",
       "\n",
       "       [[7.26593846e-01, 8.03808706e-01, 7.38432922e-01, 5.00275356e-01,\n",
       "         2.40729117e-01, 4.84239000e-02, 7.49992476e-01, 4.53852056e-02,\n",
       "         1.72077733e-01, 7.70332130e-01],\n",
       "        [9.29044908e-01, 3.59744412e-01, 7.99690625e-01, 9.86043454e-01,\n",
       "         8.99456813e-01, 6.41472258e-01, 6.04684082e-01, 3.34759064e-01,\n",
       "         9.31532036e-01, 3.38999115e-01],\n",
       "        [6.61467962e-01, 6.83052412e-01, 9.73783045e-01, 8.75403735e-01,\n",
       "         8.49513747e-01, 2.90799756e-01, 4.01127432e-01, 2.24069177e-01,\n",
       "         1.27905296e-01, 2.32458440e-01]],\n",
       "\n",
       "       [[3.88923335e-01, 9.21190692e-01, 8.96859780e-01, 6.03615785e-01,\n",
       "         4.34017222e-01, 3.41280455e-01, 4.75341916e-01, 1.65823296e-01,\n",
       "         8.79563612e-01, 8.77683520e-01],\n",
       "        [5.13503157e-01, 3.43554984e-01, 2.04658662e-01, 9.37815479e-01,\n",
       "         5.59713557e-01, 2.82156907e-01, 5.42289956e-01, 5.80047273e-01,\n",
       "         5.55394911e-01, 6.99484832e-02],\n",
       "        [7.13198471e-01, 5.35940107e-01, 6.90816746e-01, 5.73790419e-01,\n",
       "         3.76014978e-01, 1.69138392e-01, 2.53292251e-01, 7.74346016e-01,\n",
       "         9.65068106e-01, 6.25333600e-01]],\n",
       "\n",
       "       [[7.80519411e-01, 5.34195946e-01, 2.33459610e-01, 4.44923433e-02,\n",
       "         8.86068657e-01, 9.50652035e-01, 4.68349760e-01, 5.23508951e-01,\n",
       "         2.81274171e-01, 4.36376953e-01],\n",
       "        [2.79444832e-01, 1.98076664e-01, 3.34184547e-01, 2.82383245e-01,\n",
       "         5.42584425e-02, 5.45016189e-01, 5.93490410e-01, 5.28173357e-01,\n",
       "         2.28060351e-01, 4.19731897e-01],\n",
       "        [9.36929047e-01, 5.18836997e-01, 7.68104450e-01, 8.97109519e-01,\n",
       "         6.57408300e-01, 3.92864752e-01, 9.84588074e-01, 2.74359923e-01,\n",
       "         4.32239545e-01, 6.48884024e-01]],\n",
       "\n",
       "       [[8.89488910e-01, 8.36864354e-01, 7.34534353e-01, 4.64790182e-02,\n",
       "         2.29689138e-01, 8.05377117e-01, 6.26326432e-01, 5.13109084e-01,\n",
       "         5.71475920e-01, 6.36132691e-01],\n",
       "        [9.43946526e-01, 5.65773125e-01, 6.16544444e-01, 8.03577823e-01,\n",
       "         1.57463966e-01, 8.37505530e-01, 4.77720242e-01, 1.93337525e-01,\n",
       "         9.50110003e-02, 3.98563376e-01],\n",
       "        [3.78997745e-01, 3.97370911e-01, 9.27285197e-01, 2.77518896e-01,\n",
       "         4.55025235e-01, 8.77281536e-01, 6.99921268e-02, 2.83105404e-01,\n",
       "         9.33358027e-01, 6.42526630e-01]],\n",
       "\n",
       "       [[4.02552162e-01, 7.77816046e-01, 4.90951591e-02, 9.65015318e-01,\n",
       "         1.39596579e-01, 1.28226594e-01, 2.90807778e-02, 7.24226657e-01,\n",
       "         9.16670598e-01, 7.23685204e-01],\n",
       "        [5.19547960e-01, 9.02855385e-01, 8.17053377e-05, 6.75678240e-01,\n",
       "         6.22863509e-01, 4.45009432e-01, 8.76090637e-01, 4.27300026e-01,\n",
       "         4.65829270e-01, 7.40735496e-02],\n",
       "        [8.39337216e-02, 3.68561374e-01, 7.42393440e-01, 1.60655185e-01,\n",
       "         5.57131709e-01, 6.75463694e-01, 2.89815749e-01, 3.34447938e-01,\n",
       "         7.92920454e-01, 1.31924932e-01]]])"
      ]
     },
     "execution_count": 4,
     "metadata": {},
     "output_type": "execute_result"
    }
   ],
   "source": [
    "x = np.random.rand(6, 3, 10)\n",
    "x"
   ]
  },
  {
   "cell_type": "markdown",
   "metadata": {},
   "source": [
    "To get more of an understanding of the RAND i.e. RAndom numbers over a uniform distribution package, plotting it reveals what a Uniform Distribution actually entails. There are no special interests i.e. there is approx 1000 random numbers between 0.0 and 0.1 and there is also approx 1000 random numbers created between 0.9 and 1.0. \n",
    "However, one word of caution with all the Random number packages: the values generated may contain the value 0 but will always be less than and never equal to 1. \n",
    "# 0 <= x < 1.\n",
    "Plotting 1000 random numbers shows this random but uniform distribution. "
   ]
  },
  {
   "cell_type": "code",
   "execution_count": 5,
   "metadata": {},
   "outputs": [
    {
     "data": {
      "text/plain": [
       "array([0.6402319 , 0.70385411, 0.22915259, ..., 0.84438788, 0.96277465,\n",
       "       0.94806024])"
      ]
     },
     "execution_count": 5,
     "metadata": {},
     "output_type": "execute_result"
    }
   ],
   "source": [
    "x = np.random.rand(10000)\n",
    "x"
   ]
  },
  {
   "cell_type": "code",
   "execution_count": 6,
   "metadata": {},
   "outputs": [
    {
     "data": {
      "text/plain": [
       "Text(0, 0.5, 'Distribution')"
      ]
     },
     "execution_count": 6,
     "metadata": {},
     "output_type": "execute_result"
    }
   ],
   "source": [
    "import matplotlib.pyplot as plt\n",
    "plt.hist(x)\n",
    "plt.title('Random Rand')\n",
    "plt.xlabel('Value')\n",
    "plt.ylabel('Distribution')"
   ]
  },
  {
   "cell_type": "markdown",
   "metadata": {},
   "source": [
    "# Random.Randint - Random Integers\n",
    "This package is another part of the Random Library that is very similar to the previous random.rand library, but on this occasion it allows the programmer to choose the range from where the random data should be taken. \n",
    "In the example below, the random numbers generated will be integers i.e. positive whole numbers, between 0 and 9 (the same rule applies in that the maximum number generated will be less than the range of 10 (so in fact 9 is the maximum number returned)), and the size argument is specifying the number of numbers that should be generated, in this case 1000."
   ]
  },
  {
   "cell_type": "code",
   "execution_count": 7,
   "metadata": {},
   "outputs": [
    {
     "data": {
      "text/plain": [
       "array([6, 6, 3, 8, 3, 6, 4, 6, 8, 8, 0, 6, 2, 0, 1, 2, 2, 6, 1, 5, 3, 3,\n",
       "       5, 5, 8, 2, 6, 6, 4, 9, 0, 9, 4, 8, 9, 9, 5, 0, 2, 2, 1, 9, 7, 6,\n",
       "       4, 8, 9, 0, 6, 6, 5, 7, 8, 0, 8, 4, 7, 9, 7, 7, 2, 8, 3, 8, 6, 7,\n",
       "       9, 6, 0, 2, 4, 5, 7, 4, 5, 8, 1, 6, 0, 4, 6, 7, 0, 6, 8, 3, 5, 0,\n",
       "       8, 6, 5, 6, 0, 7, 3, 8, 4, 2, 1, 3, 5, 7, 5, 1, 0, 3, 6, 3, 0, 0,\n",
       "       7, 2, 6, 0, 8, 9, 1, 4, 7, 1, 7, 5, 7, 5, 1, 7, 6, 7, 9, 4, 3, 7,\n",
       "       2, 5, 2, 7, 8, 7, 0, 1, 3, 4, 1, 6, 3, 3, 4, 4, 6, 9, 8, 8, 4, 8,\n",
       "       8, 0, 5, 3, 6, 0, 4, 3, 5, 0, 9, 6, 4, 6, 8, 1, 1, 6, 1, 8, 9, 7,\n",
       "       8, 5, 8, 5, 2, 8, 7, 7, 2, 6, 6, 8, 9, 1, 7, 0, 6, 7, 1, 0, 5, 2,\n",
       "       2, 6, 2, 4, 2, 5, 0, 4, 6, 3, 4, 2, 1, 5, 7, 1, 8, 0, 7, 3, 4, 6,\n",
       "       1, 1, 2, 8, 8, 2, 2, 0, 6, 8, 1, 5, 5, 9, 9, 1, 8, 5, 8, 3, 4, 5,\n",
       "       2, 9, 2, 1, 5, 9, 8, 9, 3, 1, 9, 8, 7, 2, 4, 7, 5, 7, 0, 0, 1, 2,\n",
       "       9, 3, 1, 6, 2, 7, 0, 2, 6, 6, 1, 9, 3, 2, 7, 4, 3, 9, 7, 6, 3, 9,\n",
       "       7, 1, 9, 1, 2, 6, 9, 4, 7, 2, 4, 7, 0, 0, 0, 9, 5, 3, 5, 3, 1, 3,\n",
       "       7, 9, 9, 8, 6, 4, 8, 2, 1, 6, 3, 1, 1, 6, 8, 0, 1, 4, 4, 6, 7, 7,\n",
       "       6, 6, 5, 3, 1, 2, 2, 8, 3, 0, 9, 9, 4, 4, 3, 1, 7, 6, 5, 9, 5, 5,\n",
       "       9, 6, 5, 2, 2, 0, 9, 0, 2, 2, 5, 7, 9, 9, 0, 6, 4, 9, 2, 5, 0, 3,\n",
       "       4, 0, 5, 3, 0, 9, 0, 1, 0, 1, 4, 7, 1, 5, 2, 4, 5, 2, 0, 4, 8, 2,\n",
       "       6, 8, 3, 9, 0, 3, 6, 2, 5, 0, 9, 0, 5, 7, 8, 5, 1, 9, 1, 7, 7, 1,\n",
       "       1, 7, 3, 4, 0, 0, 4, 5, 3, 6, 1, 4, 5, 4, 5, 9, 9, 9, 4, 2, 8, 0,\n",
       "       1, 6, 0, 4, 0, 1, 0, 0, 3, 3, 2, 5, 8, 2, 3, 8, 2, 7, 2, 3, 7, 0,\n",
       "       0, 0, 8, 1, 6, 7, 8, 9, 0, 4, 9, 0, 2, 4, 0, 1, 9, 0, 6, 5, 2, 9,\n",
       "       2, 7, 5, 0, 1, 4, 0, 5, 5, 3, 2, 0, 5, 3, 2, 6, 4, 4, 4, 5, 8, 2,\n",
       "       0, 6, 6, 1, 6, 4, 4, 4, 6, 9, 7, 7, 2, 5, 0, 3, 9, 3, 7, 6, 4, 1,\n",
       "       0, 6, 4, 6, 3, 2, 2, 9, 7, 6, 2, 6, 6, 5, 1, 1, 7, 6, 6, 9, 1, 9,\n",
       "       6, 8, 3, 1, 0, 2, 7, 2, 0, 7, 0, 1, 8, 0, 7, 6, 2, 3, 5, 3, 1, 1,\n",
       "       3, 0, 5, 5, 7, 8, 9, 2, 3, 4, 4, 7, 0, 7, 6, 3, 5, 3, 6, 2, 5, 8,\n",
       "       6, 4, 5, 0, 2, 0, 9, 1, 0, 1, 6, 6, 8, 1, 3, 5, 1, 2, 3, 6, 8, 0,\n",
       "       9, 7, 2, 0, 2, 0, 7, 6, 7, 5, 6, 5, 8, 9, 9, 4, 5, 8, 2, 0, 8, 3,\n",
       "       6, 0, 8, 6, 7, 4, 3, 9, 7, 4, 1, 1, 4, 7, 9, 3, 8, 3, 1, 7, 6, 1,\n",
       "       5, 4, 4, 2, 4, 8, 8, 6, 5, 1, 4, 8, 2, 6, 7, 5, 7, 2, 3, 6, 5, 9,\n",
       "       8, 8, 7, 4, 3, 8, 4, 8, 7, 0, 9, 2, 4, 1, 4, 7, 7, 1, 6, 0, 2, 2,\n",
       "       9, 2, 4, 6, 0, 6, 4, 2, 6, 7, 5, 6, 8, 3, 4, 1, 0, 5, 2, 5, 4, 6,\n",
       "       5, 3, 9, 4, 7, 5, 7, 4, 6, 3, 1, 2, 5, 2, 1, 9, 5, 9, 1, 8, 8, 8,\n",
       "       6, 9, 3, 3, 6, 5, 6, 6, 8, 5, 8, 7, 7, 5, 8, 5, 4, 9, 3, 4, 9, 6,\n",
       "       5, 7, 6, 2, 0, 4, 8, 3, 4, 3, 8, 7, 7, 7, 8, 6, 5, 2, 8, 4, 7, 5,\n",
       "       1, 2, 7, 0, 2, 7, 3, 7, 4, 7, 9, 3, 4, 8, 7, 2, 1, 5, 3, 0, 2, 4,\n",
       "       6, 2, 7, 2, 9, 7, 7, 9, 9, 7, 9, 6, 5, 7, 0, 0, 0, 1, 3, 9, 7, 0,\n",
       "       6, 6, 6, 6, 7, 4, 1, 1, 0, 5, 9, 0, 9, 9, 5, 8, 5, 3, 4, 4, 6, 3,\n",
       "       1, 4, 4, 1, 3, 8, 8, 9, 0, 1, 6, 5, 5, 0, 6, 7, 4, 2, 1, 2, 0, 7,\n",
       "       2, 2, 1, 7, 4, 8, 5, 4, 9, 4, 0, 4, 6, 1, 0, 2, 9, 4, 8, 4, 3, 1,\n",
       "       2, 5, 9, 6, 2, 9, 4, 3, 0, 0, 5, 0, 0, 7, 6, 4, 9, 3, 3, 0, 9, 5,\n",
       "       4, 9, 4, 2, 5, 9, 0, 6, 2, 4, 4, 9, 0, 6, 3, 4, 8, 9, 6, 9, 8, 0,\n",
       "       7, 2, 7, 2, 7, 6, 5, 4, 6, 2, 2, 3, 1, 7, 3, 5, 8, 1, 7, 0, 1, 6,\n",
       "       8, 3, 9, 9, 9, 4, 1, 8, 1, 5, 7, 5, 6, 7, 1, 7, 2, 9, 1, 4, 7, 5,\n",
       "       9, 7, 9, 6, 5, 0, 9, 1, 9, 7])"
      ]
     },
     "execution_count": 7,
     "metadata": {},
     "output_type": "execute_result"
    }
   ],
   "source": [
    "y = np.random.randint(10, size=1000)\n",
    "y"
   ]
  },
  {
   "cell_type": "markdown",
   "metadata": {},
   "source": [
    "As before, plotting the distribution of random numbers generated shows that there is also a uniform distribution associated with this package. "
   ]
  },
  {
   "cell_type": "code",
   "execution_count": 8,
   "metadata": {},
   "outputs": [
    {
     "data": {
      "text/plain": [
       "Text(0, 0.5, 'Distribution')"
      ]
     },
     "execution_count": 8,
     "metadata": {},
     "output_type": "execute_result"
    },
    {
     "data": {
      "image/png": "[encoded data removed]",
      "text/plain": [
       "<Figure size 432x288 with 1 Axes>"
      ]
     },
     "metadata": {
      "needs_background": "light"
     },
     "output_type": "display_data"
    }
   ],
   "source": [
    "plt.hist(y)\n",
    "plt.title('Random Integers')\n",
    "plt.xlabel('Value')\n",
    "plt.ylabel('Distribution')"
   ]
  },
  {
   "cell_type": "markdown",
   "metadata": {},
   "source": [
    "Very little difference to note in this distribution from the previous (Random Rand) distribution apart from the fact that the returned random values are integers. A use of this type Random distribution is in a simple game where a dice throw is required. The code is extremely simple as all that is required is a random number from 1 to 6 to be returned after each dice throw or function call. The following code should suffice:"
   ]
  },
  {
   "cell_type": "code",
   "execution_count": 9,
   "metadata": {},
   "outputs": [
    {
     "data": {
      "text/plain": [
       "array([4])"
      ]
     },
     "execution_count": 9,
     "metadata": {},
     "output_type": "execute_result"
    }
   ],
   "source": [
    "y = np.random.randint(1, 7, size=1) # return 1 random number between 1 and 6 \n",
    "y"
   ]
  },
  {
   "cell_type": "markdown",
   "metadata": {},
   "source": [
    "# Numpy Random Permutation\n",
    "A function specifically for changing the arrangement of a set of items in an array. \n",
    "An array of numbers can be jumbled with a call to this function. As an example, the array z with 10 values, 1 to 10, can be permutated as follows:"
   ]
  },
  {
   "cell_type": "code",
   "execution_count": 12,
   "metadata": {},
   "outputs": [
    {
     "data": {
      "text/plain": [
       "array([ 9,  2,  6, 10,  8,  3,  1,  4,  5,  7])"
      ]
     },
     "execution_count": 12,
     "metadata": {},
     "output_type": "execute_result"
    }
   ],
   "source": [
    "z = np.random.permutation([1,2,3,4,5,6,7,8,9,10])\n",
    "z"
   ]
  },
  {
   "cell_type": "markdown",
   "metadata": {},
   "source": [
    "This jumbling of an array is a difficult one to find uses or applications for but a simple one might be a gameshow where a contestant is shown a number of prizes, the prizes are then placed in boxes or behind prize doors, numbered 1 to 10 (as in the example above). As the contestant traverses the questions and selects doors to be opened, the prizes are revealed to them, hoping that the booby prize is not in the ranking! If the top prize of a car is numbered 10 to begin, but after the permutation is numbered 5, the contestants chances are completely in God's hands, unless the contestant is aware of the seed value and a whizz at maths!"
   ]
  },
  {
   "cell_type": "markdown",
   "metadata": {},
   "source": [
    "# The Seed\n",
    "# Is a Random Number generated by a computer truly random? \n",
    "The simple answer to this question is no. \n",
    "\n",
    "For a Random Number to be a True Random Number, 2 conditions have to be met:(1) the values are uniformly distributed over a defined interval or set, and (2) it is impossible to predict future values based on past or present ones.\n",
    "\n",
    "Quote taken from https://whatis.techtarget.com/definition/random-numbers\n",
    "\n",
    "With this in mind, a computer can therefore not generate a truly random number but can create or provide a number or sequence of numbers that may appear random. These computer generated random numbers are referred to as pseudo random numbers. Why is this fact so important? \n",
    "\n",
    "A number of years ago Intel developed a series of mcroprocesors that had the ability to create random numbers. However, without divulging the details of this function on the Intel Microprocessor, the world was informed that the random number generator was a black box. You ask it to rvide a number and it would return a random number. With this vague and lack of specific information on this black box, the Random number generator on the INtel CHips soon became a thing of the past and was discontinued a number of years later. People the world over couldn;t count on what was inside the black box, as they knew that any computer generated random number (pseudo random number) could be theoretically predicted if the seed was known by somebody wanting to try and predict or crack the Intel code. \n",
    "\n",
    "A Pseudo Random Number is a number that is created by a call to a processor to provide a number. Pi is a good example to employ here as it's relationship between the radius and the circumference of the circle is a recurring number that appears to have no repetition and appears to be completely random in nature. \n",
    "# 3.14159 26535 89793 23846 26433 83279 50288 41971 69399 37510 58209 74944 59230 78164 06286 20899 86280 34825 34211 7067.....\n",
    ".....the first 100 digits of Pi. \n",
    "A simple observation denotes that there is no repetition, or pattern and the same can be said for the millions of digits to the right of the decimal point that has been worked out to date. \n",
    "\n",
    "The value Pi seems an obvious choice for pseudo random numbers generation because of these characteristics. If a computer is powered on and after 56 minutes is requested to provide a random number, then it may go to the 56th digit after the decimal point in the Pi string where it wil begin providing these numbers back to the function requestion it. 74944 are the 56th and subsequent 4 numbers after he 56th position. Is this truly random? No, but it appears so. \n",
    "\n",
    "Additionally, and theoretically if 2 X identical computers are powered on simultaneously and are requested to provide a pseudo random number at exactly the same time, the results could be the same. Not only that, but if a hacker was to decipher the \"seed\", the seed being the location of the very first number being selected from the seudo random sequence, then theoretically they coulld forsee what the subsequent rnadom numbers are going to be. \n",
    "\n",
    "# Are there truly random number generators?\n",
    "Thankfully there are random number generators in existence that don't rely on computers so therefore eliminate the potential to prophecise subsequent numbers. One such method is to reflect lazers off a lava lamp as it melts and shifts within itelf thereby producing a completely random pattern. ANother method is to use "
   ]
  },
  {
   "cell_type": "code",
   "execution_count": 11,
   "metadata": {},
   "outputs": [
    {
     "data": {
      "text/plain": [
       "(array([ 9.,  9., 12., 11., 12.,  8.,  7.,  9., 11., 12.]),\n",
       " array([ 0. ,  1.9,  3.8,  5.7,  7.6,  9.5, 11.4, 13.3, 15.2, 17.1, 19. ]),\n",
       " <a list of 10 Patch objects>)"
      ]
     },
     "execution_count": 11,
     "metadata": {},
     "output_type": "execute_result"
    },
    {
     "data": {
      "image/png": "[encoded data removed]",
      "text/plain": [
       "<Figure size 432x288 with 1 Axes>"
      ]
     },
     "metadata": {
      "needs_background": "light"
     },
     "output_type": "display_data"
    }
   ],
   "source": [
    "z = np.random.randint(20, size=100)\n",
    "plt.hist(z)"
   ]
  },
  {
   "cell_type": "code",
   "execution_count": null,
   "metadata": {},
   "outputs": [],
   "source": []
  },
  {
   "cell_type": "code",
   "execution_count": null,
   "metadata": {},
   "outputs": [],
   "source": []
  },
  {
   "cell_type": "code",
   "execution_count": null,
   "metadata": {},
   "outputs": [],
   "source": []
  }
 ],
 "metadata": {
  "kernelspec": {
   "display_name": "Python 3",
   "language": "python",
   "name": "python3"
  },
  "language_info": {
   "codemirror_mode": {
    "name": "ipython",
    "version": 3
   },
   "file_extension": ".py",
   "mimetype": "text/x-python",
   "name": "python",
   "nbconvert_exporter": "python",
   "pygments_lexer": "ipython3",
   "version": "3.7.1"
  }
 },
 "nbformat": 4,
 "nbformat_minor": 2
}
