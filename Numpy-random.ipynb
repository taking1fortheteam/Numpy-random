{
 "cells": [
  {
   "cell_type": "markdown",
   "metadata": {},
   "source": [
    "# The Numpy.random package"
   ]
  },
  {
   "cell_type": "markdown",
   "metadata": {},
   "source": [
    "NumPy, short for Numerical Python, is a library for numerical data analysis or scientific computing within Python. Within the NumPy library there are packages, each one designed for analysing and manipulating data specific to the users needs. \n",
    "\n",
    "This NoteBook specifically deals with the Random package and should allow the reader to grasp the concept, usage and purpose of the package, while also working through examples of a number of the functions within the Random package.\n",
    "\n",
    "Random data is an extremely important topic in mathematics or statistical analysis. Simply put, recording the weight of caught fish from Loughrea Lake at a time when the fish population are about to give birth will falsely err on the heavy side where in fact the average woud be generally a lot less. Using random data will allow cancelling out the effect of unobserved factors.  \n",
    "\n",
    "In electronic engineering behaviours of components at the zero crossing can be frought with issues for would be designers. Having computer models and simulations of components around this \"zero crossing\" ought to assist designers to avoid the pitfalls of this unwanted behaviour. If the models were based on data or samples only in the components normal or ideal operational conditions, not drawing attention to the zero crossing, may lead to oversights on the designers behalf and result in extreme unwanted behaviours when products reach prototyping stage, or worse again, reach customers. \n",
    "\n",
    "To invoke and include NumPy in our Python programming and analysis, we first need to import the package or library into the Python environment. The following line of code performs this operation:\n"
   ]
  },
  {
   "cell_type": "code",
   "execution_count": 22,
   "metadata": {},
   "outputs": [],
   "source": [
    "import numpy as np"
   ]
  },
  {
   "cell_type": "markdown",
   "metadata": {},
   "source": [
    "Importing NumPy as np - basically as we want to refer to NumPy through out our code from hereafter, we only need to use np rather than re-type NumPy each time. This should save us a little time.\n",
    "\n",
    "# Random.Rand Distribution\n",
    "\n",
    "To get into the different functions of the Random package we need to start looking at a few. To begin with we will cast our eyes over the Random Rand function.\n",
    "This function will return a value (or values) from the standard normal distribution: please refer to the following link for further details:\n",
    "\n",
    "https://docs.scipy.org/doc/numpy-1.14.0/reference/generated/numpy.random.randn.html\n",
    "\n",
    "In this example, the value of x will be equal to a random number. But the random number has to be created, and to do this, NumPy needs to be called upon, followed by the Random distribution, then the Rand \"normal distribution\". The parameter in the brackets can consist of many items, but for this 1st example it is set to only 1 - meaning there wil be only 1 Random Number returned from the Normal Distribution. "
   ]
  },
  {
   "cell_type": "code",
   "execution_count": 23,
   "metadata": {},
   "outputs": [
    {
     "data": {
      "text/plain": [
       "array([0.32539841])"
      ]
     },
     "execution_count": 23,
     "metadata": {},
     "output_type": "execute_result"
    }
   ],
   "source": [
    "x = np.random.rand(1)\n",
    "x"
   ]
  },
  {
   "cell_type": "markdown",
   "metadata": {},
   "source": [
    "Changing the parameter within the brackets will allow any number of random numbers to be generated within an array structure, in the example below, there will be 6 random number arrays returned with 3 arrays of 10 elements in each."
   ]
  },
  {
   "cell_type": "code",
   "execution_count": 24,
   "metadata": {},
   "outputs": [
    {
     "data": {
      "text/plain": [
       "array([[[0.99871814, 0.0711731 , 0.38738802, 0.44163238, 0.49747943,\n",
       "         0.78478799, 0.19601913, 0.24151547, 0.942492  , 0.0908151 ],\n",
       "        [0.33490517, 0.03993044, 0.36875749, 0.95647899, 0.29100428,\n",
       "         0.99116405, 0.64284889, 0.16748799, 0.09373594, 0.44293464],\n",
       "        [0.98793307, 0.46150812, 0.71302905, 0.66891415, 0.84519418,\n",
       "         0.18229859, 0.9209229 , 0.98840469, 0.70105535, 0.37307629]],\n",
       "\n",
       "       [[0.99972455, 0.67906228, 0.09832241, 0.020924  , 0.64137614,\n",
       "         0.11468985, 0.05368985, 0.80902328, 0.58030441, 0.37652986],\n",
       "        [0.55994844, 0.74624639, 0.69467711, 0.04079781, 0.26915731,\n",
       "         0.6671463 , 0.16923815, 0.65819791, 0.25985653, 0.31052407],\n",
       "        [0.80020537, 0.19366303, 0.24807857, 0.55242965, 0.76208723,\n",
       "         0.02168585, 0.78872983, 0.03786332, 0.43264774, 0.76803405]],\n",
       "\n",
       "       [[0.64448603, 0.37978098, 0.32014935, 0.75736643, 0.16251711,\n",
       "         0.05018686, 0.19311027, 0.67093558, 0.74037696, 0.48744541],\n",
       "        [0.94063836, 0.44548838, 0.39197317, 0.82421598, 0.50493363,\n",
       "         0.91858536, 0.6573939 , 0.59254777, 0.71473801, 0.09303706],\n",
       "        [0.12522204, 0.29318934, 0.43820639, 0.05428044, 0.0031422 ,\n",
       "         0.66790071, 0.95713696, 0.85282583, 0.44387989, 0.20343861]],\n",
       "\n",
       "       [[0.10170904, 0.87977116, 0.90902149, 0.14472644, 0.19847364,\n",
       "         0.13003329, 0.23066013, 0.09972468, 0.98415634, 0.79602195],\n",
       "        [0.30692482, 0.19678129, 0.42678105, 0.43262749, 0.86950079,\n",
       "         0.78284571, 0.62282474, 0.46477433, 0.05561365, 0.85717264],\n",
       "        [0.55545528, 0.2819709 , 0.10615344, 0.11437075, 0.52241651,\n",
       "         0.09260967, 0.06280905, 0.6884454 , 0.41909541, 0.20707321]],\n",
       "\n",
       "       [[0.9888711 , 0.62911077, 0.59890853, 0.57426317, 0.37490759,\n",
       "         0.77806699, 0.9843609 , 0.72072463, 0.32039973, 0.67441307],\n",
       "        [0.71819647, 0.03281155, 0.36647362, 0.19233289, 0.01698687,\n",
       "         0.37893476, 0.11024151, 0.3834178 , 0.15093281, 0.69361337],\n",
       "        [0.59086491, 0.86342496, 0.76242904, 0.54572787, 0.40814711,\n",
       "         0.06520572, 0.51251531, 0.68029795, 0.79465126, 0.34237342]],\n",
       "\n",
       "       [[0.29619668, 0.61794583, 0.52802084, 0.85271676, 0.17706696,\n",
       "         0.20610041, 0.92914676, 0.05749778, 0.47408347, 0.51566037],\n",
       "        [0.44259332, 0.10961481, 0.43020234, 0.49358047, 0.33899278,\n",
       "         0.3569952 , 0.41193917, 0.78949241, 0.53473245, 0.14974486],\n",
       "        [0.44837024, 0.33559033, 0.1098329 , 0.8964436 , 0.68326852,\n",
       "         0.65917864, 0.14422248, 0.89222425, 0.55135878, 0.39634884]]])"
      ]
     },
     "execution_count": 24,
     "metadata": {},
     "output_type": "execute_result"
    }
   ],
   "source": [
    "x = np.random.rand(6, 3, 10)\n",
    "x"
   ]
  },
  {
   "cell_type": "markdown",
   "metadata": {},
   "source": [
    "To get more of an understanding of the RAND i.e. RAndom numbers over a uniform distribution package, plotting it reveals what a Uniform Distribution actually entails. There are no special interests i.e. there is approx 1000 random numbers between 0.0 and 0.1 and there is also approx 1000 random numbers created between 0.9 and 1.0. \n",
    "However, one word of caution with all the Random number packages: the values generated may contain the value 0 but will always be less than and never equal to 1. \n",
    "# 0 <= x < 1.\n",
    "Plotting 1000 random numbers shows this random but uniform distribution. "
   ]
  },
  {
   "cell_type": "code",
   "execution_count": 25,
   "metadata": {},
   "outputs": [
    {
     "data": {
      "text/plain": [
       "array([0.92063806, 0.0354641 , 0.60862673, ..., 0.88807202, 0.92324559,\n",
       "       0.41267779])"
      ]
     },
     "execution_count": 25,
     "metadata": {},
     "output_type": "execute_result"
    }
   ],
   "source": [
    "x = np.random.rand(10000)\n",
    "x"
   ]
  },
  {
   "cell_type": "code",
   "execution_count": 26,
   "metadata": {},
   "outputs": [
    {
     "data": {
      "text/plain": [
       "Text(0, 0.5, 'Distribution')"
      ]
     },
     "execution_count": 26,
     "metadata": {},
     "output_type": "execute_result"
    },
    {
     "data": {
      "image/png": "[encoded data removed]",
      "text/plain": [
       "<Figure size 432x288 with 1 Axes>"
      ]
     },
     "metadata": {
      "needs_background": "light"
     },
     "output_type": "display_data"
    }
   ],
   "source": [
    "import matplotlib.pyplot as plt\n",
    "plt.hist(x)\n",
    "plt.title('Random Rand')\n",
    "plt.xlabel('Value')\n",
    "plt.ylabel('Distribution')"
   ]
  },
  {
   "cell_type": "markdown",
   "metadata": {},
   "source": [
    "# Random.Randint - Random Integers\n",
    "This package is another part of the Random Library that is very similar to the previous random.rand library, but on this occasion it allows the programmer to choose the range from where the random data should be taken. \n",
    "In the example below, the random numbers generated will be integers i.e. positive whole numbers, between 0 and 9 (the same rule applies in that the maximum number generated will be less than the range of 10 (so in fact 9 is the maximum number returned)), and the size argument is specifying the number of numbers that should be generated, in this case 1000."
   ]
  },
  {
   "cell_type": "code",
   "execution_count": 27,
   "metadata": {},
   "outputs": [
    {
     "data": {
      "text/plain": [
       "array([2, 6, 5, 6, 2, 4, 7, 5, 6, 3, 3, 0, 8, 7, 1, 1, 5, 6, 1, 1, 7, 4,\n",
       "       4, 4, 3, 9, 8, 4, 0, 6, 6, 1, 7, 1, 5, 1, 1, 9, 0, 4, 5, 5, 6, 3,\n",
       "       0, 3, 9, 6, 4, 6, 3, 0, 5, 6, 9, 1, 3, 1, 7, 8, 5, 4, 3, 3, 4, 5,\n",
       "       2, 3, 9, 9, 6, 9, 1, 7, 2, 0, 1, 1, 8, 0, 8, 0, 9, 8, 2, 1, 7, 2,\n",
       "       2, 4, 3, 2, 8, 8, 1, 9, 3, 3, 1, 2, 7, 2, 9, 1, 9, 4, 9, 8, 4, 1,\n",
       "       2, 1, 8, 9, 7, 9, 6, 7, 3, 7, 8, 0, 1, 3, 4, 3, 8, 5, 8, 5, 1, 3,\n",
       "       5, 6, 2, 7, 7, 7, 3, 8, 5, 9, 1, 1, 6, 1, 9, 1, 9, 5, 8, 1, 6, 0,\n",
       "       8, 4, 8, 6, 8, 1, 7, 4, 3, 7, 1, 4, 2, 3, 8, 6, 6, 8, 6, 2, 9, 5,\n",
       "       6, 4, 0, 6, 3, 2, 5, 2, 9, 5, 4, 6, 6, 6, 9, 2, 4, 2, 1, 7, 4, 4,\n",
       "       1, 0, 5, 8, 4, 7, 5, 8, 2, 0, 0, 5, 0, 7, 2, 7, 2, 1, 4, 6, 7, 9,\n",
       "       9, 2, 7, 8, 2, 5, 8, 3, 1, 1, 7, 5, 1, 1, 4, 1, 5, 8, 1, 6, 0, 2,\n",
       "       2, 2, 3, 8, 3, 2, 6, 1, 8, 6, 0, 5, 2, 8, 0, 2, 9, 7, 3, 5, 7, 4,\n",
       "       5, 1, 7, 3, 0, 3, 4, 1, 6, 6, 6, 1, 5, 3, 4, 6, 1, 5, 0, 3, 9, 2,\n",
       "       6, 1, 8, 9, 8, 3, 5, 4, 7, 9, 8, 7, 9, 6, 4, 9, 6, 8, 7, 9, 2, 5,\n",
       "       3, 5, 1, 4, 0, 8, 4, 1, 5, 1, 5, 4, 1, 7, 1, 3, 7, 5, 6, 2, 6, 5,\n",
       "       2, 9, 1, 3, 5, 9, 6, 9, 1, 8, 9, 2, 8, 3, 9, 8, 7, 3, 2, 0, 4, 9,\n",
       "       1, 2, 3, 6, 5, 6, 5, 1, 6, 5, 8, 5, 8, 2, 4, 9, 7, 7, 7, 4, 0, 9,\n",
       "       0, 4, 8, 9, 3, 2, 4, 4, 2, 2, 3, 4, 5, 0, 2, 9, 4, 1, 4, 8, 3, 5,\n",
       "       0, 5, 3, 7, 6, 8, 8, 5, 1, 8, 3, 6, 8, 4, 6, 8, 5, 7, 0, 2, 3, 6,\n",
       "       7, 7, 4, 5, 3, 3, 6, 0, 9, 9, 4, 6, 0, 6, 8, 4, 2, 2, 6, 5, 2, 6,\n",
       "       7, 5, 1, 9, 2, 7, 2, 4, 6, 4, 6, 9, 1, 0, 8, 7, 4, 5, 4, 2, 1, 6,\n",
       "       0, 9, 8, 6, 7, 4, 4, 5, 1, 3, 3, 4, 4, 6, 8, 4, 0, 7, 4, 3, 3, 0,\n",
       "       6, 1, 5, 1, 6, 1, 9, 5, 7, 6, 4, 8, 1, 6, 4, 3, 2, 7, 7, 4, 0, 9,\n",
       "       0, 0, 0, 1, 6, 5, 2, 4, 8, 1, 9, 8, 6, 0, 6, 0, 6, 0, 7, 3, 5, 9,\n",
       "       5, 5, 2, 1, 0, 7, 8, 8, 4, 0, 0, 8, 0, 6, 3, 6, 9, 5, 1, 0, 4, 3,\n",
       "       2, 6, 8, 2, 0, 1, 6, 7, 3, 4, 3, 4, 7, 9, 9, 2, 5, 8, 5, 0, 4, 2,\n",
       "       1, 4, 1, 4, 1, 4, 4, 5, 2, 0, 6, 6, 4, 9, 6, 6, 1, 5, 0, 3, 6, 8,\n",
       "       9, 1, 7, 8, 7, 6, 0, 4, 3, 3, 9, 3, 0, 1, 6, 0, 2, 1, 6, 0, 7, 1,\n",
       "       4, 9, 0, 4, 6, 1, 2, 6, 9, 4, 8, 9, 1, 6, 8, 4, 6, 3, 0, 9, 6, 6,\n",
       "       3, 4, 4, 4, 1, 2, 7, 8, 6, 4, 9, 3, 6, 9, 8, 7, 2, 5, 4, 6, 5, 8,\n",
       "       9, 1, 1, 6, 9, 9, 6, 0, 7, 9, 7, 0, 7, 0, 7, 3, 2, 0, 7, 1, 2, 6,\n",
       "       8, 1, 6, 8, 5, 1, 9, 3, 2, 9, 5, 5, 4, 5, 9, 1, 9, 3, 0, 1, 3, 4,\n",
       "       0, 6, 9, 7, 0, 1, 4, 6, 4, 2, 2, 1, 6, 7, 7, 3, 5, 3, 6, 6, 2, 5,\n",
       "       2, 6, 3, 3, 8, 1, 3, 1, 2, 8, 6, 0, 4, 9, 1, 3, 3, 2, 3, 7, 3, 5,\n",
       "       2, 9, 9, 4, 2, 2, 9, 8, 1, 7, 2, 4, 2, 3, 3, 1, 1, 0, 2, 9, 2, 4,\n",
       "       2, 0, 6, 8, 0, 4, 7, 9, 7, 8, 1, 0, 7, 6, 8, 5, 3, 4, 0, 7, 6, 7,\n",
       "       6, 1, 8, 7, 2, 5, 0, 5, 5, 2, 5, 7, 9, 2, 9, 5, 4, 2, 6, 8, 7, 2,\n",
       "       8, 5, 2, 2, 5, 2, 1, 6, 6, 5, 6, 5, 1, 7, 2, 6, 2, 2, 3, 3, 1, 3,\n",
       "       4, 6, 6, 9, 8, 7, 7, 4, 5, 1, 5, 3, 4, 2, 7, 0, 2, 0, 9, 7, 3, 0,\n",
       "       6, 9, 9, 3, 3, 8, 8, 4, 1, 5, 0, 7, 7, 2, 0, 0, 4, 6, 3, 1, 8, 6,\n",
       "       0, 9, 3, 1, 1, 7, 1, 5, 1, 9, 6, 9, 6, 1, 4, 8, 4, 1, 8, 5, 0, 5,\n",
       "       4, 3, 7, 2, 9, 5, 1, 0, 2, 8, 4, 0, 9, 3, 8, 7, 2, 5, 6, 2, 3, 7,\n",
       "       2, 2, 7, 4, 5, 1, 4, 6, 8, 4, 6, 5, 3, 2, 0, 2, 8, 2, 6, 2, 2, 0,\n",
       "       7, 3, 3, 7, 9, 2, 8, 1, 7, 7, 8, 9, 8, 3, 3, 9, 8, 7, 6, 5, 5, 2,\n",
       "       2, 2, 5, 0, 5, 3, 2, 0, 6, 4, 3, 7, 4, 0, 7, 2, 0, 5, 9, 9, 8, 9,\n",
       "       6, 1, 1, 5, 0, 8, 7, 2, 3, 8])"
      ]
     },
     "execution_count": 27,
     "metadata": {},
     "output_type": "execute_result"
    }
   ],
   "source": [
    "y = np.random.randint(10, size=1000)\n",
    "y"
   ]
  },
  {
   "cell_type": "markdown",
   "metadata": {},
   "source": [
    "As before, plotting the distribution of random numbers generated shows that there is also a uniform distribution associated with this package. "
   ]
  },
  {
   "cell_type": "code",
   "execution_count": 28,
   "metadata": {},
   "outputs": [
    {
     "data": {
      "text/plain": [
       "Text(0, 0.5, 'Distribution')"
      ]
     },
     "execution_count": 28,
     "metadata": {},
     "output_type": "execute_result"
    },
    {
     "data": {
      "image/png": "[encoded data removed]",
      "text/plain": [
       "<Figure size 432x288 with 1 Axes>"
      ]
     },
     "metadata": {
      "needs_background": "light"
     },
     "output_type": "display_data"
    }
   ],
   "source": [
    "plt.hist(y)\n",
    "plt.title('Random Integers')\n",
    "plt.xlabel('Value')\n",
    "plt.ylabel('Distribution')"
   ]
  },
  {
   "cell_type": "markdown",
   "metadata": {},
   "source": [
    "Very little difference to note in this distribution from the previous (Random Rand) distribution apart from the fact that the returned random values are integers. A use of this type Random distribution is in a simple game where a dice throw is required. The code is extremely simple as all that is required is a random number from 1 to 6 to be returned after each dice throw or function call. The following code should suffice:"
   ]
  },
  {
   "cell_type": "code",
   "execution_count": 29,
   "metadata": {},
   "outputs": [
    {
     "data": {
      "text/plain": [
       "array([2])"
      ]
     },
     "execution_count": 29,
     "metadata": {},
     "output_type": "execute_result"
    }
   ],
   "source": [
    "y = np.random.randint(1, 7, size=1) # return 1 random number between 1 and 6 \n",
    "y"
   ]
  },
  {
   "cell_type": "markdown",
   "metadata": {},
   "source": [
    "# Numpy Random Geometric\n",
    "This function is specifically designed to create psuedo random data with a Geometric distribution. "
   ]
  },
  {
   "cell_type": "code",
   "execution_count": 30,
   "metadata": {},
   "outputs": [
    {
     "data": {
      "text/plain": [
       "(array([26., 30., 11.,  8., 11.,  4.,  3.,  3.,  3.,  1.]),\n",
       " array([ 1. ,  2.7,  4.4,  6.1,  7.8,  9.5, 11.2, 12.9, 14.6, 16.3, 18. ]),\n",
       " <a list of 10 Patch objects>)"
      ]
     },
     "execution_count": 30,
     "metadata": {},
     "output_type": "execute_result"
    },
    {
     "data": {
      "image/png": "[encoded data removed]",
      "text/plain": [
       "<Figure size 432x288 with 1 Axes>"
      ]
     },
     "metadata": {
      "needs_background": "light"
     },
     "output_type": "display_data"
    }
   ],
   "source": [
    "z = np.random.geometric(p=0.2, size=100)\n",
    "plt.hist(z)"
   ]
  },
  {
   "cell_type": "markdown",
   "metadata": {},
   "source": [
    "# NumPy Random Laplace\n",
    "This function is specifically designed to create psuedo random data with a Laplace distribution. "
   ]
  },
  {
   "cell_type": "code",
   "execution_count": 31,
   "metadata": {},
   "outputs": [
    {
     "data": {
      "text/plain": [
       "(array([56., 19., 10.,  5.,  3.,  3.,  0.,  2.,  0.,  2.]),\n",
       " array([ 1. ,  3.2,  5.4,  7.6,  9.8, 12. , 14.2, 16.4, 18.6, 20.8, 23. ]),\n",
       " <a list of 10 Patch objects>)"
      ]
     },
     "execution_count": 31,
     "metadata": {},
     "output_type": "execute_result"
    },
    {
     "data": {
      "image/png": "[encoded data removed]",
      "text/plain": [
       "<Figure size 432x288 with 1 Axes>"
      ]
     },
     "metadata": {
      "needs_background": "light"
     },
     "output_type": "display_data"
    }
   ],
   "source": [
    "z = np.random.geometric(p=0.2, size=100)\n",
    "plt.hist(z)"
   ]
  },
  {
   "cell_type": "markdown",
   "metadata": {},
   "source": [
    "# NumPy Random Normal\n",
    "Known as the Gaussian distribution or normal distribution, it has come to be kown as the Bell Curve in most disciplines. Plotting the Bell Curve is relatively straight forward and the plot is as follows:\n",
    "The function name is np.random.normal, followed by open bracket, loc= (the mean of the distribution), scale= (the standard deviation of the distribution) and the size= which doesn't require further explanation. "
   ]
  },
  {
   "cell_type": "code",
   "execution_count": 39,
   "metadata": {},
   "outputs": [
    {
     "data": {
      "text/plain": [
       "(array([  17.,  126.,  484., 1513., 2624., 2697., 1744.,  619.,  156.,\n",
       "          20.]),\n",
       " array([-7.42214061, -5.96435233, -4.50656406, -3.04877579, -1.59098751,\n",
       "        -0.13319924,  1.32458904,  2.78237731,  4.24016558,  5.69795386,\n",
       "         7.15574213]),\n",
       " <a list of 10 Patch objects>)"
      ]
     },
     "execution_count": 39,
     "metadata": {},
     "output_type": "execute_result"
    },
    {
     "data": {
      "image/png": "[encoded data removed]",
      "text/plain": [
       "<Figure size 432x288 with 1 Axes>"
      ]
     },
     "metadata": {
      "needs_background": "light"
     },
     "output_type": "display_data"
    }
   ],
   "source": [
    "x = np.random.normal(loc=0, scale= 2, size=10000)\n",
    "plt.hist(x)"
   ]
  },
  {
   "cell_type": "markdown",
   "metadata": {},
   "source": [
    "# Numpy Random Permutation\n",
    "A function specifically for changing the arrangement of a set of items in an array. \n",
    "An array of numbers can be jumbled with a call to this function. As an example, the array z with 10 values, 1 to 10, can be permutated as follows:"
   ]
  },
  {
   "cell_type": "code",
   "execution_count": 12,
   "metadata": {},
   "outputs": [
    {
     "data": {
      "text/plain": [
       "array([ 9,  2,  6, 10,  8,  3,  1,  4,  5,  7])"
      ]
     },
     "execution_count": 12,
     "metadata": {},
     "output_type": "execute_result"
    }
   ],
   "source": [
    "z = np.random.permutation([1,2,3,4,5,6,7,8,9,10])\n",
    "z"
   ]
  },
  {
   "cell_type": "markdown",
   "metadata": {},
   "source": [
    "This jumbling of an array is a difficult one to find uses or applications for but a simple one might be a gameshow where a contestant is shown a number of prizes, the prizes are then placed in boxes or behind prize doors, numbered 1 to 10 (as in the example above). As the contestant traverses the questions and selects doors to be opened, the prizes are revealed to them, hoping that the booby prize is not in the ranking! If the top prize of a car is numbered 10 to begin, but after the permutation is numbered 5, the contestants chances are completely in God's hands, unless the contestant is aware of the seed value and a whizz at maths!"
   ]
  },
  {
   "cell_type": "markdown",
   "metadata": {},
   "source": [
    "# The Seed\n",
    "# Is a Random Number generated by a computer truly random? \n",
    "The simple answer to this question is no. \n",
    "\n",
    "For a Random Number to be a True Random Number, 2 conditions have to be met:(1) the values are uniformly distributed over a defined interval or set, and (2) it is impossible to predict future values based on past or present ones.\n",
    "\n",
    "Quote taken from https://whatis.techtarget.com/definition/random-numbers\n",
    "\n",
    "With this in mind, a computer can therefore not generate a truly random number but can create or provide a number or sequence of numbers that may appear random. These computer generated random numbers are referred to as pseudo random numbers. Why is this fact so important? \n",
    "\n",
    "A number of years ago Intel developed a series of mcroprocesors that had the ability to create random numbers. However, without divulging the details of this function on the Intel Microprocessor, the world was informed that the random number generator was a black box. You ask it to rvide a number and it would return a random number. With this vague and lack of specific information on this black box, the Random number generator on the INtel CHips soon became a thing of the past and was discontinued a number of years later. People the world over couldn;t count on what was inside the black box, as they knew that any computer generated random number (pseudo random number) could be theoretically predicted if the seed was known by somebody wanting to try and predict or crack the Intel code. \n",
    "\n",
    "A Pseudo Random Number is a number that is created by a call to a processor to provide a number. Pi is a good example to employ here as it's relationship between the radius and the circumference of the circle is a recurring number that appears to have no repetition and appears to be completely random in nature. \n",
    "# 3.14159 26535 89793 23846 26433 83279 50288 41971 69399 37510 58209 74944 59230 78164 06286 20899 86280 34825 34211 7067.....\n",
    ".....the first 100 digits of Pi. \n",
    "A simple observation denotes that there is no repetition, or pattern and the same can be said for the millions of digits to the right of the decimal point that has been worked out to date. \n",
    "\n",
    "The value Pi seems an obvious choice for pseudo random numbers generation because of these characteristics. If a computer is powered on and after 56 minutes is requested to provide a random number, then it may go to the 56th digit after the decimal point in the Pi string where it wil begin providing these numbers back to the function requestion it. 74944 are the 56th and subsequent 4 numbers after he 56th position. Is this truly random? No, but it appears so. \n",
    "\n",
    "Additionally, and theoretically if 2 X identical computers are powered on simultaneously and are requested to provide a pseudo random number at exactly the same time, the results could be the same. Not only that, but if a hacker was to decipher the \"seed\", the seed being the location of the very first number being selected from the seudo random sequence, then theoretically they coulld forsee what the subsequent rnadom numbers are going to be. \n",
    "\n",
    "# Are there truly random number generators?\n",
    "Thankfully there are random number generators in existence that don't rely on computers so therefore eliminate the potential to prophecise subsequent numbers. One such method is to reflect lazers off a lava lamp as it melts and shifts within itelf thereby producing a completely random pattern. ANother method is to use "
   ]
  },
  {
   "cell_type": "code",
   "execution_count": 11,
   "metadata": {},
   "outputs": [
    {
     "data": {
      "text/plain": [
       "(array([ 9.,  9., 12., 11., 12.,  8.,  7.,  9., 11., 12.]),\n",
       " array([ 0. ,  1.9,  3.8,  5.7,  7.6,  9.5, 11.4, 13.3, 15.2, 17.1, 19. ]),\n",
       " <a list of 10 Patch objects>)"
      ]
     },
     "execution_count": 11,
     "metadata": {},
     "output_type": "execute_result"
    },
    {
     "data": {
      "image/png": "[encoded data removed]",
      "text/plain": [
       "<Figure size 432x288 with 1 Axes>"
      ]
     },
     "metadata": {
      "needs_background": "light"
     },
     "output_type": "display_data"
    }
   ],
   "source": [
    "z = np.random.randint(20, size=100)\n",
    "plt.hist(z)"
   ]
  },
  {
   "cell_type": "code",
   "execution_count": null,
   "metadata": {},
   "outputs": [],
   "source": []
  },
  {
   "cell_type": "code",
   "execution_count": null,
   "metadata": {},
   "outputs": [],
   "source": []
  },
  {
   "cell_type": "code",
   "execution_count": null,
   "metadata": {},
   "outputs": [],
   "source": []
  }
 ],
 "metadata": {
  "kernelspec": {
   "display_name": "Python 3",
   "language": "python",
   "name": "python3"
  },
  "language_info": {
   "codemirror_mode": {
    "name": "ipython",
    "version": 3
   },
   "file_extension": ".py",
   "mimetype": "text/x-python",
   "name": "python",
   "nbconvert_exporter": "python",
   "pygments_lexer": "ipython3",
   "version": "3.7.1"
  }
 },
 "nbformat": 4,
 "nbformat_minor": 2
}
