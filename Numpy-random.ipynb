{
 "cells": [
  {
   "cell_type": "markdown",
   "metadata": {},
   "source": [
    "# The Numpy.random package"
   ]
  },
  {
   "cell_type": "markdown",
   "metadata": {},
   "source": [
    "NumPy, short for Numerical Python, is a library for numerical data analysis or scientific computing within Python. Within the NumPy package there are libraries, each one designed for analysing and manipulating data specific to the users needs. \n",
    "\n",
    "This NoteBook specifically deals with the Random package and should allow the reader to grasp the concept, usage and purpose of the package, while also working through examples of a number of the distributions within the Random package.\n",
    "\n",
    "Random data is an extremely important topic in mathematics or statistical analysis. Simply put, recording the weight of caught fish from Loughrea Lake at a time when the fish population are about to give birth will falsely err on the heavy side where in fact the average woud be generally a lot less. Using random data will allow cancelling out the effect of unobserved factors.  \n",
    "\n",
    "In electronic engineering behaviours of components at the zero crossing can be frought with issues for would be designers. Having computer models and simulations of components around this \"zero crossing\" ought to assist designers to avoid the pitfalls of this unwanted behaviour. If the models were based on data or samples only in the components normal operational conditions, not drawing attention to the zero crossing, may lead to oversights on the designers behalf and result in extreme unwanted behaviours when products reach prototyping stage, or worse again, reach customers. \n",
    "\n",
    "To invoke and include NumPy in our Python programming and analysis, we first need to import the package or library into the Python environment. The following line of code performs this operation:\n"
   ]
  },
  {
   "cell_type": "code",
   "execution_count": 14,
   "metadata": {},
   "outputs": [],
   "source": [
    "import numpy as np"
   ]
  },
  {
   "cell_type": "markdown",
   "metadata": {},
   "source": [
    "Importing NumPy as np - basically as we want to refer to NumPy through out our code from hereafter, we only need to use np rather than re-type NumPy each time. This should save us a little time.\n",
    "\n",
    "To get into the different distributions of the Random package we need to start looking at a few. To begin with we will cast our eyes over the Random Rand Distribution.\n",
    "This distribution will return a value (or values) from the standard normal distribution: please refer to the following link for further details:\n",
    "\n",
    "https://docs.scipy.org/doc/numpy-1.14.0/reference/generated/numpy.random.randn.html\n",
    "\n",
    "In this example, the value of x will be equal to a random number. But the random number has to be created, and to do this, NumPy needs to be called upon, followed by the Random distribution, then the Rand \"normal distribution\". THe parameter in the brackets can consist of many items, but for this 1st example it is set to only 1 - meaning there wil be only 1 Random Number returned from the Normal Distribution. "
   ]
  },
  {
   "cell_type": "code",
   "execution_count": 15,
   "metadata": {},
   "outputs": [
    {
     "data": {
      "text/plain": [
       "array([0.85916306])"
      ]
     },
     "execution_count": 15,
     "metadata": {},
     "output_type": "execute_result"
    }
   ],
   "source": [
    "x = np.random.rand(1)\n",
    "x"
   ]
  },
  {
   "cell_type": "markdown",
   "metadata": {},
   "source": [
    "Changing the parameter within the brackets will allow any number of random numbers to be generated within an array structure, in the example below, there will be 3 arrays returned with 6 X 50 elements in each."
   ]
  },
  {
   "cell_type": "code",
   "execution_count": 16,
   "metadata": {},
   "outputs": [
    {
     "data": {
      "text/plain": [
       "array([0.90621827, 0.50331358, 0.79856052, 0.42820748, 0.08677131,\n",
       "       0.94098331])"
      ]
     },
     "execution_count": 16,
     "metadata": {},
     "output_type": "execute_result"
    }
   ],
   "source": [
    "x = np.random.rand(6)\n",
    "x"
   ]
  },
  {
   "cell_type": "markdown",
   "metadata": {},
   "source": [
    "In order to plot the array values created by the random package, a simple histogram should suffice in order to see the distribution of parameters generated."
   ]
  },
  {
   "cell_type": "code",
   "execution_count": 17,
   "metadata": {},
   "outputs": [
    {
     "data": {
      "text/plain": [
       "(array([1., 0., 0., 1., 1., 0., 0., 0., 1., 2.]),\n",
       " array([0.08677131, 0.17219251, 0.25761371, 0.34303491, 0.42845611,\n",
       "        0.51387731, 0.59929851, 0.68471971, 0.77014091, 0.85556211,\n",
       "        0.94098331]),\n",
       " <a list of 10 Patch objects>)"
      ]
     },
     "execution_count": 17,
     "metadata": {},
     "output_type": "execute_result"
    },
    {
     "data": {
      "image/png": "[encoded data removed]",
      "text/plain": [
       "<Figure size 432x288 with 1 Axes>"
      ]
     },
     "metadata": {
      "needs_background": "light"
     },
     "output_type": "display_data"
    }
   ],
   "source": [
    "import matplotlib.pyplot as plt\n",
    "plt.hist(x)"
   ]
  },
  {
   "cell_type": "code",
   "execution_count": 11,
   "metadata": {},
   "outputs": [],
   "source": [
    "y = np.random.uniform(10,20,100)"
   ]
  },
  {
   "cell_type": "code",
   "execution_count": 6,
   "metadata": {},
   "outputs": [
    {
     "data": {
      "text/plain": [
       "(array([11., 14.,  9., 16., 12.,  7.,  7.,  7., 10.,  7.]),\n",
       " array([10.13314828, 11.10143367, 12.06971906, 13.03800445, 14.00628984,\n",
       "        14.97457523, 15.94286062, 16.91114601, 17.8794314 , 18.84771679,\n",
       "        19.81600218]),\n",
       " <a list of 10 Patch objects>)"
      ]
     },
     "execution_count": 6,
     "metadata": {},
     "output_type": "execute_result"
    },
    {
     "data": {
      "image/png": "[encoded data removed]",
      "text/plain": [
       "<Figure size 432x288 with 1 Axes>"
      ]
     },
     "metadata": {
      "needs_background": "light"
     },
     "output_type": "display_data"
    }
   ],
   "source": [
    "plt.hist(y)"
   ]
  },
  {
   "cell_type": "code",
   "execution_count": 13,
   "metadata": {},
   "outputs": [
    {
     "data": {
      "text/plain": [
       "(array([ 8., 11.,  8., 13.,  7., 13., 11., 11.,  8., 10.]),\n",
       " array([ 0. ,  1.9,  3.8,  5.7,  7.6,  9.5, 11.4, 13.3, 15.2, 17.1, 19. ]),\n",
       " <a list of 10 Patch objects>)"
      ]
     },
     "execution_count": 13,
     "metadata": {},
     "output_type": "execute_result"
    },
    {
     "data": {
      "image/png": "[encoded data removed]",
      "text/plain": [
       "<Figure size 432x288 with 1 Axes>"
      ]
     },
     "metadata": {
      "needs_background": "light"
     },
     "output_type": "display_data"
    }
   ],
   "source": [
    "z = np.random.randint(20, size=100)\n",
    "plt.hist(z)"
   ]
  },
  {
   "cell_type": "code",
   "execution_count": null,
   "metadata": {},
   "outputs": [],
   "source": []
  },
  {
   "cell_type": "code",
   "execution_count": null,
   "metadata": {},
   "outputs": [],
   "source": []
  }
 ],
 "metadata": {
  "kernelspec": {
   "display_name": "Python 3",
   "language": "python",
   "name": "python3"
  },
  "language_info": {
   "codemirror_mode": {
    "name": "ipython",
    "version": 3
   },
   "file_extension": ".py",
   "mimetype": "text/x-python",
   "name": "python",
   "nbconvert_exporter": "python",
   "pygments_lexer": "ipython3",
   "version": "3.7.1"
  }
 },
 "nbformat": 4,
 "nbformat_minor": 2
}
